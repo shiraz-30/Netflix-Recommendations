{
 "cells": [
  {
   "cell_type": "markdown",
   "id": "c491d5e6",
   "metadata": {},
   "source": [
    "## Import Libraries"
   ]
  },
  {
   "cell_type": "code",
   "execution_count": 1,
   "id": "f7436db9",
   "metadata": {},
   "outputs": [],
   "source": [
    "import numpy as np\n",
    "import pandas as pd\n",
    "import matplotlib.pyplot as plt\n",
    "import seaborn as sns\n",
    "import calendar"
   ]
  },
  {
   "cell_type": "markdown",
   "id": "c9cc4c27",
   "metadata": {},
   "source": [
    "# Stats about the Dataset"
   ]
  },
  {
   "cell_type": "code",
   "execution_count": 2,
   "id": "09998dd0",
   "metadata": {},
   "outputs": [],
   "source": [
    "df = pd.read_csv('netflix_titles.csv')"
   ]
  },
  {
   "cell_type": "code",
   "execution_count": 3,
   "id": "f2214f32",
   "metadata": {},
   "outputs": [
    {
     "data": {
      "text/html": [
       "<div>\n",
       "<style scoped>\n",
       "    .dataframe tbody tr th:only-of-type {\n",
       "        vertical-align: middle;\n",
       "    }\n",
       "\n",
       "    .dataframe tbody tr th {\n",
       "        vertical-align: top;\n",
       "    }\n",
       "\n",
       "    .dataframe thead th {\n",
       "        text-align: right;\n",
       "    }\n",
       "</style>\n",
       "<table border=\"1\" class=\"dataframe\">\n",
       "  <thead>\n",
       "    <tr style=\"text-align: right;\">\n",
       "      <th></th>\n",
       "      <th>show_id</th>\n",
       "      <th>type</th>\n",
       "      <th>title</th>\n",
       "      <th>director</th>\n",
       "      <th>cast</th>\n",
       "      <th>country</th>\n",
       "      <th>date_added</th>\n",
       "      <th>release_year</th>\n",
       "      <th>rating</th>\n",
       "      <th>duration</th>\n",
       "      <th>listed_in</th>\n",
       "      <th>description</th>\n",
       "    </tr>\n",
       "  </thead>\n",
       "  <tbody>\n",
       "    <tr>\n",
       "      <th>0</th>\n",
       "      <td>s1</td>\n",
       "      <td>Movie</td>\n",
       "      <td>Dick Johnson Is Dead</td>\n",
       "      <td>Kirsten Johnson</td>\n",
       "      <td>NaN</td>\n",
       "      <td>United States</td>\n",
       "      <td>September 25, 2021</td>\n",
       "      <td>2020</td>\n",
       "      <td>PG-13</td>\n",
       "      <td>90 min</td>\n",
       "      <td>Documentaries</td>\n",
       "      <td>As her father nears the end of his life, filmm...</td>\n",
       "    </tr>\n",
       "    <tr>\n",
       "      <th>1</th>\n",
       "      <td>s2</td>\n",
       "      <td>TV Show</td>\n",
       "      <td>Blood &amp; Water</td>\n",
       "      <td>NaN</td>\n",
       "      <td>Ama Qamata, Khosi Ngema, Gail Mabalane, Thaban...</td>\n",
       "      <td>South Africa</td>\n",
       "      <td>September 24, 2021</td>\n",
       "      <td>2021</td>\n",
       "      <td>TV-MA</td>\n",
       "      <td>2 Seasons</td>\n",
       "      <td>International TV Shows, TV Dramas, TV Mysteries</td>\n",
       "      <td>After crossing paths at a party, a Cape Town t...</td>\n",
       "    </tr>\n",
       "    <tr>\n",
       "      <th>2</th>\n",
       "      <td>s3</td>\n",
       "      <td>TV Show</td>\n",
       "      <td>Ganglands</td>\n",
       "      <td>Julien Leclercq</td>\n",
       "      <td>Sami Bouajila, Tracy Gotoas, Samuel Jouy, Nabi...</td>\n",
       "      <td>NaN</td>\n",
       "      <td>September 24, 2021</td>\n",
       "      <td>2021</td>\n",
       "      <td>TV-MA</td>\n",
       "      <td>1 Season</td>\n",
       "      <td>Crime TV Shows, International TV Shows, TV Act...</td>\n",
       "      <td>To protect his family from a powerful drug lor...</td>\n",
       "    </tr>\n",
       "    <tr>\n",
       "      <th>3</th>\n",
       "      <td>s4</td>\n",
       "      <td>TV Show</td>\n",
       "      <td>Jailbirds New Orleans</td>\n",
       "      <td>NaN</td>\n",
       "      <td>NaN</td>\n",
       "      <td>NaN</td>\n",
       "      <td>September 24, 2021</td>\n",
       "      <td>2021</td>\n",
       "      <td>TV-MA</td>\n",
       "      <td>1 Season</td>\n",
       "      <td>Docuseries, Reality TV</td>\n",
       "      <td>Feuds, flirtations and toilet talk go down amo...</td>\n",
       "    </tr>\n",
       "    <tr>\n",
       "      <th>4</th>\n",
       "      <td>s5</td>\n",
       "      <td>TV Show</td>\n",
       "      <td>Kota Factory</td>\n",
       "      <td>NaN</td>\n",
       "      <td>Mayur More, Jitendra Kumar, Ranjan Raj, Alam K...</td>\n",
       "      <td>India</td>\n",
       "      <td>September 24, 2021</td>\n",
       "      <td>2021</td>\n",
       "      <td>TV-MA</td>\n",
       "      <td>2 Seasons</td>\n",
       "      <td>International TV Shows, Romantic TV Shows, TV ...</td>\n",
       "      <td>In a city of coaching centers known to train I...</td>\n",
       "    </tr>\n",
       "    <tr>\n",
       "      <th>5</th>\n",
       "      <td>s6</td>\n",
       "      <td>TV Show</td>\n",
       "      <td>Midnight Mass</td>\n",
       "      <td>Mike Flanagan</td>\n",
       "      <td>Kate Siegel, Zach Gilford, Hamish Linklater, H...</td>\n",
       "      <td>NaN</td>\n",
       "      <td>September 24, 2021</td>\n",
       "      <td>2021</td>\n",
       "      <td>TV-MA</td>\n",
       "      <td>1 Season</td>\n",
       "      <td>TV Dramas, TV Horror, TV Mysteries</td>\n",
       "      <td>The arrival of a charismatic young priest brin...</td>\n",
       "    </tr>\n",
       "    <tr>\n",
       "      <th>6</th>\n",
       "      <td>s7</td>\n",
       "      <td>Movie</td>\n",
       "      <td>My Little Pony: A New Generation</td>\n",
       "      <td>Robert Cullen, José Luis Ucha</td>\n",
       "      <td>Vanessa Hudgens, Kimiko Glenn, James Marsden, ...</td>\n",
       "      <td>NaN</td>\n",
       "      <td>September 24, 2021</td>\n",
       "      <td>2021</td>\n",
       "      <td>PG</td>\n",
       "      <td>91 min</td>\n",
       "      <td>Children &amp; Family Movies</td>\n",
       "      <td>Equestria's divided. But a bright-eyed hero be...</td>\n",
       "    </tr>\n",
       "    <tr>\n",
       "      <th>7</th>\n",
       "      <td>s8</td>\n",
       "      <td>Movie</td>\n",
       "      <td>Sankofa</td>\n",
       "      <td>Haile Gerima</td>\n",
       "      <td>Kofi Ghanaba, Oyafunmike Ogunlano, Alexandra D...</td>\n",
       "      <td>United States, Ghana, Burkina Faso, United Kin...</td>\n",
       "      <td>September 24, 2021</td>\n",
       "      <td>1993</td>\n",
       "      <td>TV-MA</td>\n",
       "      <td>125 min</td>\n",
       "      <td>Dramas, Independent Movies, International Movies</td>\n",
       "      <td>On a photo shoot in Ghana, an American model s...</td>\n",
       "    </tr>\n",
       "    <tr>\n",
       "      <th>8</th>\n",
       "      <td>s9</td>\n",
       "      <td>TV Show</td>\n",
       "      <td>The Great British Baking Show</td>\n",
       "      <td>Andy Devonshire</td>\n",
       "      <td>Mel Giedroyc, Sue Perkins, Mary Berry, Paul Ho...</td>\n",
       "      <td>United Kingdom</td>\n",
       "      <td>September 24, 2021</td>\n",
       "      <td>2021</td>\n",
       "      <td>TV-14</td>\n",
       "      <td>9 Seasons</td>\n",
       "      <td>British TV Shows, Reality TV</td>\n",
       "      <td>A talented batch of amateur bakers face off in...</td>\n",
       "    </tr>\n",
       "    <tr>\n",
       "      <th>9</th>\n",
       "      <td>s10</td>\n",
       "      <td>Movie</td>\n",
       "      <td>The Starling</td>\n",
       "      <td>Theodore Melfi</td>\n",
       "      <td>Melissa McCarthy, Chris O'Dowd, Kevin Kline, T...</td>\n",
       "      <td>United States</td>\n",
       "      <td>September 24, 2021</td>\n",
       "      <td>2021</td>\n",
       "      <td>PG-13</td>\n",
       "      <td>104 min</td>\n",
       "      <td>Comedies, Dramas</td>\n",
       "      <td>A woman adjusting to life after a loss contend...</td>\n",
       "    </tr>\n",
       "  </tbody>\n",
       "</table>\n",
       "</div>"
      ],
      "text/plain": [
       "  show_id     type                             title  \\\n",
       "0      s1    Movie              Dick Johnson Is Dead   \n",
       "1      s2  TV Show                     Blood & Water   \n",
       "2      s3  TV Show                         Ganglands   \n",
       "3      s4  TV Show             Jailbirds New Orleans   \n",
       "4      s5  TV Show                      Kota Factory   \n",
       "5      s6  TV Show                     Midnight Mass   \n",
       "6      s7    Movie  My Little Pony: A New Generation   \n",
       "7      s8    Movie                           Sankofa   \n",
       "8      s9  TV Show     The Great British Baking Show   \n",
       "9     s10    Movie                      The Starling   \n",
       "\n",
       "                        director  \\\n",
       "0                Kirsten Johnson   \n",
       "1                            NaN   \n",
       "2                Julien Leclercq   \n",
       "3                            NaN   \n",
       "4                            NaN   \n",
       "5                  Mike Flanagan   \n",
       "6  Robert Cullen, José Luis Ucha   \n",
       "7                   Haile Gerima   \n",
       "8                Andy Devonshire   \n",
       "9                 Theodore Melfi   \n",
       "\n",
       "                                                cast  \\\n",
       "0                                                NaN   \n",
       "1  Ama Qamata, Khosi Ngema, Gail Mabalane, Thaban...   \n",
       "2  Sami Bouajila, Tracy Gotoas, Samuel Jouy, Nabi...   \n",
       "3                                                NaN   \n",
       "4  Mayur More, Jitendra Kumar, Ranjan Raj, Alam K...   \n",
       "5  Kate Siegel, Zach Gilford, Hamish Linklater, H...   \n",
       "6  Vanessa Hudgens, Kimiko Glenn, James Marsden, ...   \n",
       "7  Kofi Ghanaba, Oyafunmike Ogunlano, Alexandra D...   \n",
       "8  Mel Giedroyc, Sue Perkins, Mary Berry, Paul Ho...   \n",
       "9  Melissa McCarthy, Chris O'Dowd, Kevin Kline, T...   \n",
       "\n",
       "                                             country          date_added  \\\n",
       "0                                      United States  September 25, 2021   \n",
       "1                                       South Africa  September 24, 2021   \n",
       "2                                                NaN  September 24, 2021   \n",
       "3                                                NaN  September 24, 2021   \n",
       "4                                              India  September 24, 2021   \n",
       "5                                                NaN  September 24, 2021   \n",
       "6                                                NaN  September 24, 2021   \n",
       "7  United States, Ghana, Burkina Faso, United Kin...  September 24, 2021   \n",
       "8                                     United Kingdom  September 24, 2021   \n",
       "9                                      United States  September 24, 2021   \n",
       "\n",
       "   release_year rating   duration  \\\n",
       "0          2020  PG-13     90 min   \n",
       "1          2021  TV-MA  2 Seasons   \n",
       "2          2021  TV-MA   1 Season   \n",
       "3          2021  TV-MA   1 Season   \n",
       "4          2021  TV-MA  2 Seasons   \n",
       "5          2021  TV-MA   1 Season   \n",
       "6          2021     PG     91 min   \n",
       "7          1993  TV-MA    125 min   \n",
       "8          2021  TV-14  9 Seasons   \n",
       "9          2021  PG-13    104 min   \n",
       "\n",
       "                                           listed_in  \\\n",
       "0                                      Documentaries   \n",
       "1    International TV Shows, TV Dramas, TV Mysteries   \n",
       "2  Crime TV Shows, International TV Shows, TV Act...   \n",
       "3                             Docuseries, Reality TV   \n",
       "4  International TV Shows, Romantic TV Shows, TV ...   \n",
       "5                 TV Dramas, TV Horror, TV Mysteries   \n",
       "6                           Children & Family Movies   \n",
       "7   Dramas, Independent Movies, International Movies   \n",
       "8                       British TV Shows, Reality TV   \n",
       "9                                   Comedies, Dramas   \n",
       "\n",
       "                                         description  \n",
       "0  As her father nears the end of his life, filmm...  \n",
       "1  After crossing paths at a party, a Cape Town t...  \n",
       "2  To protect his family from a powerful drug lor...  \n",
       "3  Feuds, flirtations and toilet talk go down amo...  \n",
       "4  In a city of coaching centers known to train I...  \n",
       "5  The arrival of a charismatic young priest brin...  \n",
       "6  Equestria's divided. But a bright-eyed hero be...  \n",
       "7  On a photo shoot in Ghana, an American model s...  \n",
       "8  A talented batch of amateur bakers face off in...  \n",
       "9  A woman adjusting to life after a loss contend...  "
      ]
     },
     "execution_count": 3,
     "metadata": {},
     "output_type": "execute_result"
    }
   ],
   "source": [
    "df.head(10)"
   ]
  },
  {
   "cell_type": "code",
   "execution_count": 4,
   "id": "8190d609",
   "metadata": {},
   "outputs": [
    {
     "name": "stdout",
     "output_type": "stream",
     "text": [
      "<class 'pandas.core.frame.DataFrame'>\n",
      "RangeIndex: 8807 entries, 0 to 8806\n",
      "Data columns (total 12 columns):\n",
      " #   Column        Non-Null Count  Dtype \n",
      "---  ------        --------------  ----- \n",
      " 0   show_id       8807 non-null   object\n",
      " 1   type          8807 non-null   object\n",
      " 2   title         8807 non-null   object\n",
      " 3   director      6173 non-null   object\n",
      " 4   cast          7982 non-null   object\n",
      " 5   country       7976 non-null   object\n",
      " 6   date_added    8797 non-null   object\n",
      " 7   release_year  8807 non-null   int64 \n",
      " 8   rating        8803 non-null   object\n",
      " 9   duration      8804 non-null   object\n",
      " 10  listed_in     8807 non-null   object\n",
      " 11  description   8807 non-null   object\n",
      "dtypes: int64(1), object(11)\n",
      "memory usage: 825.8+ KB\n"
     ]
    }
   ],
   "source": [
    "df.info()"
   ]
  },
  {
   "cell_type": "code",
   "execution_count": 5,
   "id": "4f39e472",
   "metadata": {},
   "outputs": [
    {
     "data": {
      "text/plain": [
       "(8807, 12)"
      ]
     },
     "execution_count": 5,
     "metadata": {},
     "output_type": "execute_result"
    }
   ],
   "source": [
    "df.shape"
   ]
  },
  {
   "cell_type": "code",
   "execution_count": 6,
   "id": "ae28c609",
   "metadata": {},
   "outputs": [
    {
     "data": {
      "text/plain": [
       "Index(['show_id', 'type', 'title', 'director', 'cast', 'country', 'date_added',\n",
       "       'release_year', 'rating', 'duration', 'listed_in', 'description'],\n",
       "      dtype='object')"
      ]
     },
     "execution_count": 6,
     "metadata": {},
     "output_type": "execute_result"
    }
   ],
   "source": [
    "df.keys()"
   ]
  },
  {
   "cell_type": "code",
   "execution_count": 7,
   "id": "82a1a088",
   "metadata": {},
   "outputs": [
    {
     "data": {
      "text/plain": [
       "show_id         8807\n",
       "type               2\n",
       "title           8807\n",
       "director        4528\n",
       "cast            7692\n",
       "country          748\n",
       "date_added      1767\n",
       "release_year      74\n",
       "rating            17\n",
       "duration         220\n",
       "listed_in        514\n",
       "description     8775\n",
       "dtype: int64"
      ]
     },
     "execution_count": 7,
     "metadata": {},
     "output_type": "execute_result"
    }
   ],
   "source": [
    "df.nunique()"
   ]
  },
  {
   "cell_type": "code",
   "execution_count": 8,
   "id": "3a830f17",
   "metadata": {},
   "outputs": [
    {
     "data": {
      "text/plain": [
       "show_id            0\n",
       "type               0\n",
       "title              0\n",
       "director        2634\n",
       "cast             825\n",
       "country          831\n",
       "date_added        10\n",
       "release_year       0\n",
       "rating             4\n",
       "duration           3\n",
       "listed_in          0\n",
       "description        0\n",
       "dtype: int64"
      ]
     },
     "execution_count": 8,
     "metadata": {},
     "output_type": "execute_result"
    }
   ],
   "source": [
    "df.isnull().sum()"
   ]
  },
  {
   "cell_type": "markdown",
   "id": "00dfb6cc",
   "metadata": {},
   "source": [
    "# Handling Missing Values"
   ]
  },
  {
   "cell_type": "markdown",
   "id": "41c007f9",
   "metadata": {},
   "source": [
    "### Replace Countries with the most frequent Country (mode).\n",
    "\n",
    "### Replace Director and Cast Actors with 'No Data' as replacing some other person over there wouldn't benefit much."
   ]
  },
  {
   "cell_type": "code",
   "execution_count": 9,
   "id": "fbd394ea",
   "metadata": {},
   "outputs": [],
   "source": [
    "df['director'].replace(np.nan, 'No Data',inplace  = True)\n",
    "df['cast'].replace(np.nan, 'No Data',inplace  = True)\n",
    "\n",
    "df['country'] = df['country'].fillna(df['country'].mode()[0])\n",
    "\n",
    "\n",
    "df.dropna(inplace = True)"
   ]
  },
  {
   "cell_type": "code",
   "execution_count": 10,
   "id": "25c9f3a9",
   "metadata": {},
   "outputs": [
    {
     "data": {
      "text/html": [
       "<div>\n",
       "<style scoped>\n",
       "    .dataframe tbody tr th:only-of-type {\n",
       "        vertical-align: middle;\n",
       "    }\n",
       "\n",
       "    .dataframe tbody tr th {\n",
       "        vertical-align: top;\n",
       "    }\n",
       "\n",
       "    .dataframe thead th {\n",
       "        text-align: right;\n",
       "    }\n",
       "</style>\n",
       "<table border=\"1\" class=\"dataframe\">\n",
       "  <thead>\n",
       "    <tr style=\"text-align: right;\">\n",
       "      <th></th>\n",
       "      <th>show_id</th>\n",
       "      <th>type</th>\n",
       "      <th>title</th>\n",
       "      <th>director</th>\n",
       "      <th>cast</th>\n",
       "      <th>country</th>\n",
       "      <th>date_added</th>\n",
       "      <th>release_year</th>\n",
       "      <th>rating</th>\n",
       "      <th>duration</th>\n",
       "      <th>listed_in</th>\n",
       "      <th>description</th>\n",
       "    </tr>\n",
       "  </thead>\n",
       "  <tbody>\n",
       "    <tr>\n",
       "      <th>0</th>\n",
       "      <td>s1</td>\n",
       "      <td>Movie</td>\n",
       "      <td>Dick Johnson Is Dead</td>\n",
       "      <td>Kirsten Johnson</td>\n",
       "      <td>No Data</td>\n",
       "      <td>United States</td>\n",
       "      <td>September 25, 2021</td>\n",
       "      <td>2020</td>\n",
       "      <td>PG-13</td>\n",
       "      <td>90 min</td>\n",
       "      <td>Documentaries</td>\n",
       "      <td>As her father nears the end of his life, filmm...</td>\n",
       "    </tr>\n",
       "    <tr>\n",
       "      <th>1</th>\n",
       "      <td>s2</td>\n",
       "      <td>TV Show</td>\n",
       "      <td>Blood &amp; Water</td>\n",
       "      <td>No Data</td>\n",
       "      <td>Ama Qamata, Khosi Ngema, Gail Mabalane, Thaban...</td>\n",
       "      <td>South Africa</td>\n",
       "      <td>September 24, 2021</td>\n",
       "      <td>2021</td>\n",
       "      <td>TV-MA</td>\n",
       "      <td>2 Seasons</td>\n",
       "      <td>International TV Shows, TV Dramas, TV Mysteries</td>\n",
       "      <td>After crossing paths at a party, a Cape Town t...</td>\n",
       "    </tr>\n",
       "    <tr>\n",
       "      <th>2</th>\n",
       "      <td>s3</td>\n",
       "      <td>TV Show</td>\n",
       "      <td>Ganglands</td>\n",
       "      <td>Julien Leclercq</td>\n",
       "      <td>Sami Bouajila, Tracy Gotoas, Samuel Jouy, Nabi...</td>\n",
       "      <td>United States</td>\n",
       "      <td>September 24, 2021</td>\n",
       "      <td>2021</td>\n",
       "      <td>TV-MA</td>\n",
       "      <td>1 Season</td>\n",
       "      <td>Crime TV Shows, International TV Shows, TV Act...</td>\n",
       "      <td>To protect his family from a powerful drug lor...</td>\n",
       "    </tr>\n",
       "    <tr>\n",
       "      <th>3</th>\n",
       "      <td>s4</td>\n",
       "      <td>TV Show</td>\n",
       "      <td>Jailbirds New Orleans</td>\n",
       "      <td>No Data</td>\n",
       "      <td>No Data</td>\n",
       "      <td>United States</td>\n",
       "      <td>September 24, 2021</td>\n",
       "      <td>2021</td>\n",
       "      <td>TV-MA</td>\n",
       "      <td>1 Season</td>\n",
       "      <td>Docuseries, Reality TV</td>\n",
       "      <td>Feuds, flirtations and toilet talk go down amo...</td>\n",
       "    </tr>\n",
       "    <tr>\n",
       "      <th>4</th>\n",
       "      <td>s5</td>\n",
       "      <td>TV Show</td>\n",
       "      <td>Kota Factory</td>\n",
       "      <td>No Data</td>\n",
       "      <td>Mayur More, Jitendra Kumar, Ranjan Raj, Alam K...</td>\n",
       "      <td>India</td>\n",
       "      <td>September 24, 2021</td>\n",
       "      <td>2021</td>\n",
       "      <td>TV-MA</td>\n",
       "      <td>2 Seasons</td>\n",
       "      <td>International TV Shows, Romantic TV Shows, TV ...</td>\n",
       "      <td>In a city of coaching centers known to train I...</td>\n",
       "    </tr>\n",
       "  </tbody>\n",
       "</table>\n",
       "</div>"
      ],
      "text/plain": [
       "  show_id     type                  title         director  \\\n",
       "0      s1    Movie   Dick Johnson Is Dead  Kirsten Johnson   \n",
       "1      s2  TV Show          Blood & Water          No Data   \n",
       "2      s3  TV Show              Ganglands  Julien Leclercq   \n",
       "3      s4  TV Show  Jailbirds New Orleans          No Data   \n",
       "4      s5  TV Show           Kota Factory          No Data   \n",
       "\n",
       "                                                cast        country  \\\n",
       "0                                            No Data  United States   \n",
       "1  Ama Qamata, Khosi Ngema, Gail Mabalane, Thaban...   South Africa   \n",
       "2  Sami Bouajila, Tracy Gotoas, Samuel Jouy, Nabi...  United States   \n",
       "3                                            No Data  United States   \n",
       "4  Mayur More, Jitendra Kumar, Ranjan Raj, Alam K...          India   \n",
       "\n",
       "           date_added  release_year rating   duration  \\\n",
       "0  September 25, 2021          2020  PG-13     90 min   \n",
       "1  September 24, 2021          2021  TV-MA  2 Seasons   \n",
       "2  September 24, 2021          2021  TV-MA   1 Season   \n",
       "3  September 24, 2021          2021  TV-MA   1 Season   \n",
       "4  September 24, 2021          2021  TV-MA  2 Seasons   \n",
       "\n",
       "                                           listed_in  \\\n",
       "0                                      Documentaries   \n",
       "1    International TV Shows, TV Dramas, TV Mysteries   \n",
       "2  Crime TV Shows, International TV Shows, TV Act...   \n",
       "3                             Docuseries, Reality TV   \n",
       "4  International TV Shows, Romantic TV Shows, TV ...   \n",
       "\n",
       "                                         description  \n",
       "0  As her father nears the end of his life, filmm...  \n",
       "1  After crossing paths at a party, a Cape Town t...  \n",
       "2  To protect his family from a powerful drug lor...  \n",
       "3  Feuds, flirtations and toilet talk go down amo...  \n",
       "4  In a city of coaching centers known to train I...  "
      ]
     },
     "execution_count": 10,
     "metadata": {},
     "output_type": "execute_result"
    }
   ],
   "source": [
    "df.head()"
   ]
  },
  {
   "cell_type": "code",
   "execution_count": 11,
   "id": "0a641236",
   "metadata": {},
   "outputs": [
    {
     "data": {
      "text/plain": [
       "(8790, 12)"
      ]
     },
     "execution_count": 11,
     "metadata": {},
     "output_type": "execute_result"
    }
   ],
   "source": [
    "df.shape"
   ]
  },
  {
   "cell_type": "code",
   "execution_count": 12,
   "id": "9e3c8ba1",
   "metadata": {},
   "outputs": [
    {
     "data": {
      "text/plain": [
       "show_id         0\n",
       "type            0\n",
       "title           0\n",
       "director        0\n",
       "cast            0\n",
       "country         0\n",
       "date_added      0\n",
       "release_year    0\n",
       "rating          0\n",
       "duration        0\n",
       "listed_in       0\n",
       "description     0\n",
       "dtype: int64"
      ]
     },
     "execution_count": 12,
     "metadata": {},
     "output_type": "execute_result"
    }
   ],
   "source": [
    "df.isnull().sum()"
   ]
  },
  {
   "cell_type": "markdown",
   "id": "56513a42",
   "metadata": {},
   "source": [
    "# Adding more columns"
   ]
  },
  {
   "cell_type": "markdown",
   "id": "79680f94",
   "metadata": {},
   "source": [
    "### Convert the date into datetime format for simplification.\n",
    "\n",
    "### Seperate the year and month added to analyze the content released specifically in months or years.\n",
    "\n",
    "### Seperate the season count for TV Shows and minutes duration for Movies."
   ]
  },
  {
   "cell_type": "code",
   "execution_count": 13,
   "id": "ca68ffb9",
   "metadata": {},
   "outputs": [
    {
     "data": {
      "text/html": [
       "<div>\n",
       "<style scoped>\n",
       "    .dataframe tbody tr th:only-of-type {\n",
       "        vertical-align: middle;\n",
       "    }\n",
       "\n",
       "    .dataframe tbody tr th {\n",
       "        vertical-align: top;\n",
       "    }\n",
       "\n",
       "    .dataframe thead th {\n",
       "        text-align: right;\n",
       "    }\n",
       "</style>\n",
       "<table border=\"1\" class=\"dataframe\">\n",
       "  <thead>\n",
       "    <tr style=\"text-align: right;\">\n",
       "      <th></th>\n",
       "      <th>show_id</th>\n",
       "      <th>type</th>\n",
       "      <th>title</th>\n",
       "      <th>director</th>\n",
       "      <th>cast</th>\n",
       "      <th>country</th>\n",
       "      <th>date_added</th>\n",
       "      <th>release_year</th>\n",
       "      <th>rating</th>\n",
       "      <th>duration</th>\n",
       "      <th>listed_in</th>\n",
       "      <th>description</th>\n",
       "      <th>year_added</th>\n",
       "      <th>month_added</th>\n",
       "      <th>season_count</th>\n",
       "    </tr>\n",
       "  </thead>\n",
       "  <tbody>\n",
       "    <tr>\n",
       "      <th>0</th>\n",
       "      <td>s1</td>\n",
       "      <td>Movie</td>\n",
       "      <td>Dick Johnson Is Dead</td>\n",
       "      <td>Kirsten Johnson</td>\n",
       "      <td>No Data</td>\n",
       "      <td>United States</td>\n",
       "      <td>2021-09-25</td>\n",
       "      <td>2020</td>\n",
       "      <td>PG-13</td>\n",
       "      <td>90</td>\n",
       "      <td>Documentaries</td>\n",
       "      <td>As her father nears the end of his life, filmm...</td>\n",
       "      <td>2021</td>\n",
       "      <td>9</td>\n",
       "      <td></td>\n",
       "    </tr>\n",
       "    <tr>\n",
       "      <th>1</th>\n",
       "      <td>s2</td>\n",
       "      <td>TV Show</td>\n",
       "      <td>Blood &amp; Water</td>\n",
       "      <td>No Data</td>\n",
       "      <td>Ama Qamata, Khosi Ngema, Gail Mabalane, Thaban...</td>\n",
       "      <td>South Africa</td>\n",
       "      <td>2021-09-24</td>\n",
       "      <td>2021</td>\n",
       "      <td>TV-MA</td>\n",
       "      <td></td>\n",
       "      <td>International TV Shows, TV Dramas, TV Mysteries</td>\n",
       "      <td>After crossing paths at a party, a Cape Town t...</td>\n",
       "      <td>2021</td>\n",
       "      <td>9</td>\n",
       "      <td>2</td>\n",
       "    </tr>\n",
       "    <tr>\n",
       "      <th>2</th>\n",
       "      <td>s3</td>\n",
       "      <td>TV Show</td>\n",
       "      <td>Ganglands</td>\n",
       "      <td>Julien Leclercq</td>\n",
       "      <td>Sami Bouajila, Tracy Gotoas, Samuel Jouy, Nabi...</td>\n",
       "      <td>United States</td>\n",
       "      <td>2021-09-24</td>\n",
       "      <td>2021</td>\n",
       "      <td>TV-MA</td>\n",
       "      <td></td>\n",
       "      <td>Crime TV Shows, International TV Shows, TV Act...</td>\n",
       "      <td>To protect his family from a powerful drug lor...</td>\n",
       "      <td>2021</td>\n",
       "      <td>9</td>\n",
       "      <td>1</td>\n",
       "    </tr>\n",
       "    <tr>\n",
       "      <th>3</th>\n",
       "      <td>s4</td>\n",
       "      <td>TV Show</td>\n",
       "      <td>Jailbirds New Orleans</td>\n",
       "      <td>No Data</td>\n",
       "      <td>No Data</td>\n",
       "      <td>United States</td>\n",
       "      <td>2021-09-24</td>\n",
       "      <td>2021</td>\n",
       "      <td>TV-MA</td>\n",
       "      <td></td>\n",
       "      <td>Docuseries, Reality TV</td>\n",
       "      <td>Feuds, flirtations and toilet talk go down amo...</td>\n",
       "      <td>2021</td>\n",
       "      <td>9</td>\n",
       "      <td>1</td>\n",
       "    </tr>\n",
       "    <tr>\n",
       "      <th>4</th>\n",
       "      <td>s5</td>\n",
       "      <td>TV Show</td>\n",
       "      <td>Kota Factory</td>\n",
       "      <td>No Data</td>\n",
       "      <td>Mayur More, Jitendra Kumar, Ranjan Raj, Alam K...</td>\n",
       "      <td>India</td>\n",
       "      <td>2021-09-24</td>\n",
       "      <td>2021</td>\n",
       "      <td>TV-MA</td>\n",
       "      <td></td>\n",
       "      <td>International TV Shows, Romantic TV Shows, TV ...</td>\n",
       "      <td>In a city of coaching centers known to train I...</td>\n",
       "      <td>2021</td>\n",
       "      <td>9</td>\n",
       "      <td>2</td>\n",
       "    </tr>\n",
       "    <tr>\n",
       "      <th>5</th>\n",
       "      <td>s6</td>\n",
       "      <td>TV Show</td>\n",
       "      <td>Midnight Mass</td>\n",
       "      <td>Mike Flanagan</td>\n",
       "      <td>Kate Siegel, Zach Gilford, Hamish Linklater, H...</td>\n",
       "      <td>United States</td>\n",
       "      <td>2021-09-24</td>\n",
       "      <td>2021</td>\n",
       "      <td>TV-MA</td>\n",
       "      <td></td>\n",
       "      <td>TV Dramas, TV Horror, TV Mysteries</td>\n",
       "      <td>The arrival of a charismatic young priest brin...</td>\n",
       "      <td>2021</td>\n",
       "      <td>9</td>\n",
       "      <td>1</td>\n",
       "    </tr>\n",
       "    <tr>\n",
       "      <th>6</th>\n",
       "      <td>s7</td>\n",
       "      <td>Movie</td>\n",
       "      <td>My Little Pony: A New Generation</td>\n",
       "      <td>Robert Cullen, José Luis Ucha</td>\n",
       "      <td>Vanessa Hudgens, Kimiko Glenn, James Marsden, ...</td>\n",
       "      <td>United States</td>\n",
       "      <td>2021-09-24</td>\n",
       "      <td>2021</td>\n",
       "      <td>PG</td>\n",
       "      <td>91</td>\n",
       "      <td>Children &amp; Family Movies</td>\n",
       "      <td>Equestria's divided. But a bright-eyed hero be...</td>\n",
       "      <td>2021</td>\n",
       "      <td>9</td>\n",
       "      <td></td>\n",
       "    </tr>\n",
       "    <tr>\n",
       "      <th>7</th>\n",
       "      <td>s8</td>\n",
       "      <td>Movie</td>\n",
       "      <td>Sankofa</td>\n",
       "      <td>Haile Gerima</td>\n",
       "      <td>Kofi Ghanaba, Oyafunmike Ogunlano, Alexandra D...</td>\n",
       "      <td>United States, Ghana, Burkina Faso, United Kin...</td>\n",
       "      <td>2021-09-24</td>\n",
       "      <td>1993</td>\n",
       "      <td>TV-MA</td>\n",
       "      <td>125</td>\n",
       "      <td>Dramas, Independent Movies, International Movies</td>\n",
       "      <td>On a photo shoot in Ghana, an American model s...</td>\n",
       "      <td>2021</td>\n",
       "      <td>9</td>\n",
       "      <td></td>\n",
       "    </tr>\n",
       "    <tr>\n",
       "      <th>8</th>\n",
       "      <td>s9</td>\n",
       "      <td>TV Show</td>\n",
       "      <td>The Great British Baking Show</td>\n",
       "      <td>Andy Devonshire</td>\n",
       "      <td>Mel Giedroyc, Sue Perkins, Mary Berry, Paul Ho...</td>\n",
       "      <td>United Kingdom</td>\n",
       "      <td>2021-09-24</td>\n",
       "      <td>2021</td>\n",
       "      <td>TV-14</td>\n",
       "      <td></td>\n",
       "      <td>British TV Shows, Reality TV</td>\n",
       "      <td>A talented batch of amateur bakers face off in...</td>\n",
       "      <td>2021</td>\n",
       "      <td>9</td>\n",
       "      <td>9</td>\n",
       "    </tr>\n",
       "    <tr>\n",
       "      <th>9</th>\n",
       "      <td>s10</td>\n",
       "      <td>Movie</td>\n",
       "      <td>The Starling</td>\n",
       "      <td>Theodore Melfi</td>\n",
       "      <td>Melissa McCarthy, Chris O'Dowd, Kevin Kline, T...</td>\n",
       "      <td>United States</td>\n",
       "      <td>2021-09-24</td>\n",
       "      <td>2021</td>\n",
       "      <td>PG-13</td>\n",
       "      <td>104</td>\n",
       "      <td>Comedies, Dramas</td>\n",
       "      <td>A woman adjusting to life after a loss contend...</td>\n",
       "      <td>2021</td>\n",
       "      <td>9</td>\n",
       "      <td></td>\n",
       "    </tr>\n",
       "  </tbody>\n",
       "</table>\n",
       "</div>"
      ],
      "text/plain": [
       "  show_id     type                             title  \\\n",
       "0      s1    Movie              Dick Johnson Is Dead   \n",
       "1      s2  TV Show                     Blood & Water   \n",
       "2      s3  TV Show                         Ganglands   \n",
       "3      s4  TV Show             Jailbirds New Orleans   \n",
       "4      s5  TV Show                      Kota Factory   \n",
       "5      s6  TV Show                     Midnight Mass   \n",
       "6      s7    Movie  My Little Pony: A New Generation   \n",
       "7      s8    Movie                           Sankofa   \n",
       "8      s9  TV Show     The Great British Baking Show   \n",
       "9     s10    Movie                      The Starling   \n",
       "\n",
       "                        director  \\\n",
       "0                Kirsten Johnson   \n",
       "1                        No Data   \n",
       "2                Julien Leclercq   \n",
       "3                        No Data   \n",
       "4                        No Data   \n",
       "5                  Mike Flanagan   \n",
       "6  Robert Cullen, José Luis Ucha   \n",
       "7                   Haile Gerima   \n",
       "8                Andy Devonshire   \n",
       "9                 Theodore Melfi   \n",
       "\n",
       "                                                cast  \\\n",
       "0                                            No Data   \n",
       "1  Ama Qamata, Khosi Ngema, Gail Mabalane, Thaban...   \n",
       "2  Sami Bouajila, Tracy Gotoas, Samuel Jouy, Nabi...   \n",
       "3                                            No Data   \n",
       "4  Mayur More, Jitendra Kumar, Ranjan Raj, Alam K...   \n",
       "5  Kate Siegel, Zach Gilford, Hamish Linklater, H...   \n",
       "6  Vanessa Hudgens, Kimiko Glenn, James Marsden, ...   \n",
       "7  Kofi Ghanaba, Oyafunmike Ogunlano, Alexandra D...   \n",
       "8  Mel Giedroyc, Sue Perkins, Mary Berry, Paul Ho...   \n",
       "9  Melissa McCarthy, Chris O'Dowd, Kevin Kline, T...   \n",
       "\n",
       "                                             country date_added  release_year  \\\n",
       "0                                      United States 2021-09-25          2020   \n",
       "1                                       South Africa 2021-09-24          2021   \n",
       "2                                      United States 2021-09-24          2021   \n",
       "3                                      United States 2021-09-24          2021   \n",
       "4                                              India 2021-09-24          2021   \n",
       "5                                      United States 2021-09-24          2021   \n",
       "6                                      United States 2021-09-24          2021   \n",
       "7  United States, Ghana, Burkina Faso, United Kin... 2021-09-24          1993   \n",
       "8                                     United Kingdom 2021-09-24          2021   \n",
       "9                                      United States 2021-09-24          2021   \n",
       "\n",
       "  rating duration                                          listed_in  \\\n",
       "0  PG-13       90                                      Documentaries   \n",
       "1  TV-MA             International TV Shows, TV Dramas, TV Mysteries   \n",
       "2  TV-MA           Crime TV Shows, International TV Shows, TV Act...   \n",
       "3  TV-MA                                      Docuseries, Reality TV   \n",
       "4  TV-MA           International TV Shows, Romantic TV Shows, TV ...   \n",
       "5  TV-MA                          TV Dramas, TV Horror, TV Mysteries   \n",
       "6     PG       91                           Children & Family Movies   \n",
       "7  TV-MA      125   Dramas, Independent Movies, International Movies   \n",
       "8  TV-14                                British TV Shows, Reality TV   \n",
       "9  PG-13      104                                   Comedies, Dramas   \n",
       "\n",
       "                                         description  year_added  month_added  \\\n",
       "0  As her father nears the end of his life, filmm...        2021            9   \n",
       "1  After crossing paths at a party, a Cape Town t...        2021            9   \n",
       "2  To protect his family from a powerful drug lor...        2021            9   \n",
       "3  Feuds, flirtations and toilet talk go down amo...        2021            9   \n",
       "4  In a city of coaching centers known to train I...        2021            9   \n",
       "5  The arrival of a charismatic young priest brin...        2021            9   \n",
       "6  Equestria's divided. But a bright-eyed hero be...        2021            9   \n",
       "7  On a photo shoot in Ghana, an American model s...        2021            9   \n",
       "8  A talented batch of amateur bakers face off in...        2021            9   \n",
       "9  A woman adjusting to life after a loss contend...        2021            9   \n",
       "\n",
       "  season_count  \n",
       "0               \n",
       "1            2  \n",
       "2            1  \n",
       "3            1  \n",
       "4            2  \n",
       "5            1  \n",
       "6               \n",
       "7               \n",
       "8            9  \n",
       "9               "
      ]
     },
     "execution_count": 13,
     "metadata": {},
     "output_type": "execute_result"
    }
   ],
   "source": [
    "df[\"date_added\"] = pd.to_datetime(df['date_added'])\n",
    "df['year_added'] = df['date_added'].dt.year\n",
    "df['month_added'] = df['date_added'].dt.month\n",
    "\n",
    "df['season_count'] = df.apply(lambda x : x['duration'].split(\" \")[0] if \"Season\" in x['duration'] else \"\", axis = 1)\n",
    "df['duration'] = df.apply(lambda x : x['duration'].split(\" \")[0] if \"Season\" not in x['duration'] else \"\", axis = 1)\n",
    "\n",
    "df.head(10)"
   ]
  },
  {
   "cell_type": "markdown",
   "id": "c99ccc9c",
   "metadata": {},
   "source": [
    "# Exploratory Data Analysis"
   ]
  },
  {
   "cell_type": "markdown",
   "id": "e47e4809",
   "metadata": {},
   "source": [
    "## Content Type % "
   ]
  },
  {
   "cell_type": "code",
   "execution_count": 14,
   "id": "fde7194e",
   "metadata": {},
   "outputs": [
    {
     "data": {
      "image/png": "[encoded data removed]",
      "text/plain": [
       "<Figure size 720x576 with 1 Axes>"
      ]
     },
     "metadata": {},
     "output_type": "display_data"
    }
   ],
   "source": [
    "plt.figure(figsize = (10, 8))\n",
    "\n",
    "content_type = df['type'].value_counts().reset_index()\n",
    "content_type = pd.DataFrame(content_type.rename(columns = {'type' : \"count\", \"index\" : 'type'}))\n",
    "\n",
    "plt.pie(content_type['count'], labels = ['Movies', 'TV Shows'], autopct = '%1.1f%%',colors = [\"#25cfc6\", \"#976cc6\"])\n",
    "plt.show()"
   ]
  },
  {
   "cell_type": "markdown",
   "id": "951de6be",
   "metadata": {},
   "source": [
    "### This shows that there are more than 2/3rd of Movies on Netflix as compared to TV Shows.\n",
    "\n",
    "### So, Netflix can continue focusing more on Movies as they are more popular."
   ]
  },
  {
   "cell_type": "markdown",
   "id": "f0be234f",
   "metadata": {},
   "source": [
    "# "
   ]
  },
  {
   "cell_type": "markdown",
   "id": "46adabb9",
   "metadata": {},
   "source": [
    "## Content Added Over The Years"
   ]
  },
  {
   "cell_type": "code",
   "execution_count": 15,
   "id": "daa9a95f",
   "metadata": {},
   "outputs": [
    {
     "data": {
      "text/html": [
       "<div>\n",
       "<style scoped>\n",
       "    .dataframe tbody tr th:only-of-type {\n",
       "        vertical-align: middle;\n",
       "    }\n",
       "\n",
       "    .dataframe tbody tr th {\n",
       "        vertical-align: top;\n",
       "    }\n",
       "\n",
       "    .dataframe thead th {\n",
       "        text-align: right;\n",
       "    }\n",
       "</style>\n",
       "<table border=\"1\" class=\"dataframe\">\n",
       "  <thead>\n",
       "    <tr style=\"text-align: right;\">\n",
       "      <th></th>\n",
       "      <th>year_added</th>\n",
       "      <th>count</th>\n",
       "      <th>%age</th>\n",
       "    </tr>\n",
       "  </thead>\n",
       "  <tbody>\n",
       "    <tr>\n",
       "      <th>9</th>\n",
       "      <td>2008</td>\n",
       "      <td>1</td>\n",
       "      <td>0.037538</td>\n",
       "    </tr>\n",
       "    <tr>\n",
       "      <th>8</th>\n",
       "      <td>2013</td>\n",
       "      <td>5</td>\n",
       "      <td>0.187688</td>\n",
       "    </tr>\n",
       "    <tr>\n",
       "      <th>7</th>\n",
       "      <td>2014</td>\n",
       "      <td>5</td>\n",
       "      <td>0.187688</td>\n",
       "    </tr>\n",
       "    <tr>\n",
       "      <th>6</th>\n",
       "      <td>2015</td>\n",
       "      <td>26</td>\n",
       "      <td>0.975976</td>\n",
       "    </tr>\n",
       "    <tr>\n",
       "      <th>5</th>\n",
       "      <td>2016</td>\n",
       "      <td>175</td>\n",
       "      <td>6.569069</td>\n",
       "    </tr>\n",
       "    <tr>\n",
       "      <th>4</th>\n",
       "      <td>2017</td>\n",
       "      <td>349</td>\n",
       "      <td>13.100601</td>\n",
       "    </tr>\n",
       "    <tr>\n",
       "      <th>3</th>\n",
       "      <td>2018</td>\n",
       "      <td>411</td>\n",
       "      <td>15.427928</td>\n",
       "    </tr>\n",
       "    <tr>\n",
       "      <th>1</th>\n",
       "      <td>2019</td>\n",
       "      <td>592</td>\n",
       "      <td>22.222222</td>\n",
       "    </tr>\n",
       "    <tr>\n",
       "      <th>0</th>\n",
       "      <td>2020</td>\n",
       "      <td>595</td>\n",
       "      <td>22.334835</td>\n",
       "    </tr>\n",
       "    <tr>\n",
       "      <th>2</th>\n",
       "      <td>2021</td>\n",
       "      <td>505</td>\n",
       "      <td>18.956456</td>\n",
       "    </tr>\n",
       "  </tbody>\n",
       "</table>\n",
       "</div>"
      ],
      "text/plain": [
       "   year_added  count       %age\n",
       "9        2008      1   0.037538\n",
       "8        2013      5   0.187688\n",
       "7        2014      5   0.187688\n",
       "6        2015     26   0.975976\n",
       "5        2016    175   6.569069\n",
       "4        2017    349  13.100601\n",
       "3        2018    411  15.427928\n",
       "1        2019    592  22.222222\n",
       "0        2020    595  22.334835\n",
       "2        2021    505  18.956456"
      ]
     },
     "execution_count": 15,
     "metadata": {},
     "output_type": "execute_result"
    }
   ],
   "source": [
    "tv_show_df = df[df[\"type\"] == \"TV Show\"]\n",
    "\n",
    "tv_show_years = tv_show_df[\"year_added\"].value_counts().reset_index()\n",
    "tv_show_years = tv_show_years.rename(columns = {\"year_added\" : \"count\", \"index\" : \"year_added\"})\n",
    "tv_show_years['%age'] = tv_show_years['count'].apply(lambda x : 100 * x / sum(tv_show_years['count']))\n",
    "tv_show_years = tv_show_years.sort_values(\"year_added\")\n",
    "\n",
    "tv_show_years"
   ]
  },
  {
   "cell_type": "code",
   "execution_count": 16,
   "id": "23322a29",
   "metadata": {},
   "outputs": [
    {
     "data": {
      "text/html": [
       "<div>\n",
       "<style scoped>\n",
       "    .dataframe tbody tr th:only-of-type {\n",
       "        vertical-align: middle;\n",
       "    }\n",
       "\n",
       "    .dataframe tbody tr th {\n",
       "        vertical-align: top;\n",
       "    }\n",
       "\n",
       "    .dataframe thead th {\n",
       "        text-align: right;\n",
       "    }\n",
       "</style>\n",
       "<table border=\"1\" class=\"dataframe\">\n",
       "  <thead>\n",
       "    <tr style=\"text-align: right;\">\n",
       "      <th></th>\n",
       "      <th>year_added</th>\n",
       "      <th>count</th>\n",
       "      <th>%age</th>\n",
       "    </tr>\n",
       "  </thead>\n",
       "  <tbody>\n",
       "    <tr>\n",
       "      <th>12</th>\n",
       "      <td>2008</td>\n",
       "      <td>1</td>\n",
       "      <td>0.016324</td>\n",
       "    </tr>\n",
       "    <tr>\n",
       "      <th>11</th>\n",
       "      <td>2009</td>\n",
       "      <td>2</td>\n",
       "      <td>0.032648</td>\n",
       "    </tr>\n",
       "    <tr>\n",
       "      <th>13</th>\n",
       "      <td>2010</td>\n",
       "      <td>1</td>\n",
       "      <td>0.016324</td>\n",
       "    </tr>\n",
       "    <tr>\n",
       "      <th>8</th>\n",
       "      <td>2011</td>\n",
       "      <td>13</td>\n",
       "      <td>0.212210</td>\n",
       "    </tr>\n",
       "    <tr>\n",
       "      <th>10</th>\n",
       "      <td>2012</td>\n",
       "      <td>3</td>\n",
       "      <td>0.048972</td>\n",
       "    </tr>\n",
       "    <tr>\n",
       "      <th>9</th>\n",
       "      <td>2013</td>\n",
       "      <td>6</td>\n",
       "      <td>0.097943</td>\n",
       "    </tr>\n",
       "    <tr>\n",
       "      <th>7</th>\n",
       "      <td>2014</td>\n",
       "      <td>19</td>\n",
       "      <td>0.310153</td>\n",
       "    </tr>\n",
       "    <tr>\n",
       "      <th>6</th>\n",
       "      <td>2015</td>\n",
       "      <td>56</td>\n",
       "      <td>0.914136</td>\n",
       "    </tr>\n",
       "    <tr>\n",
       "      <th>5</th>\n",
       "      <td>2016</td>\n",
       "      <td>251</td>\n",
       "      <td>4.097290</td>\n",
       "    </tr>\n",
       "    <tr>\n",
       "      <th>4</th>\n",
       "      <td>2017</td>\n",
       "      <td>836</td>\n",
       "      <td>13.646752</td>\n",
       "    </tr>\n",
       "    <tr>\n",
       "      <th>2</th>\n",
       "      <td>2018</td>\n",
       "      <td>1237</td>\n",
       "      <td>20.192622</td>\n",
       "    </tr>\n",
       "    <tr>\n",
       "      <th>0</th>\n",
       "      <td>2019</td>\n",
       "      <td>1424</td>\n",
       "      <td>23.245184</td>\n",
       "    </tr>\n",
       "    <tr>\n",
       "      <th>1</th>\n",
       "      <td>2020</td>\n",
       "      <td>1284</td>\n",
       "      <td>20.959843</td>\n",
       "    </tr>\n",
       "    <tr>\n",
       "      <th>3</th>\n",
       "      <td>2021</td>\n",
       "      <td>993</td>\n",
       "      <td>16.209598</td>\n",
       "    </tr>\n",
       "  </tbody>\n",
       "</table>\n",
       "</div>"
      ],
      "text/plain": [
       "    year_added  count       %age\n",
       "12        2008      1   0.016324\n",
       "11        2009      2   0.032648\n",
       "13        2010      1   0.016324\n",
       "8         2011     13   0.212210\n",
       "10        2012      3   0.048972\n",
       "9         2013      6   0.097943\n",
       "7         2014     19   0.310153\n",
       "6         2015     56   0.914136\n",
       "5         2016    251   4.097290\n",
       "4         2017    836  13.646752\n",
       "2         2018   1237  20.192622\n",
       "0         2019   1424  23.245184\n",
       "1         2020   1284  20.959843\n",
       "3         2021    993  16.209598"
      ]
     },
     "execution_count": 16,
     "metadata": {},
     "output_type": "execute_result"
    }
   ],
   "source": [
    "movie_df = df[df[\"type\"] == \"Movie\"]\n",
    "\n",
    "movie_years = movie_df[\"year_added\"].value_counts().reset_index()\n",
    "movie_years = movie_years.rename(columns = {\"year_added\" : \"count\", \"index\" : \"year_added\"})\n",
    "movie_years['%age'] = movie_years['count'].apply(lambda x : 100 * x / sum(movie_years['count']))\n",
    "movie_years = movie_years.sort_values(\"year_added\")\n",
    "\n",
    "movie_years"
   ]
  },
  {
   "cell_type": "code",
   "execution_count": 17,
   "id": "9fb6043a",
   "metadata": {},
   "outputs": [
    {
     "data": {
      "image/png": "[encoded data removed]",
      "text/plain": [
       "<Figure size 864x720 with 1 Axes>"
      ]
     },
     "metadata": {
      "needs_background": "light"
     },
     "output_type": "display_data"
    }
   ],
   "source": [
    "plt.figure(figsize = (12,10))\n",
    "\n",
    "plt.plot(tv_show_years['year_added'], tv_show_years['count'], color = '#976cc6')\n",
    "plt.scatter(tv_show_years['year_added'], tv_show_years['count'], color = '#976cc6')\n",
    "\n",
    "plt.plot(movie_years['year_added'], movie_years['count'], color = '#25cfc6')\n",
    "plt.scatter(movie_years['year_added'], movie_years['count'], color = '#25cfc6')\n",
    "\n",
    "plt.legend(['TV Shows', 'Movies'])\n",
    "\n",
    "plt.title('TV Shows and Movies Added each Year', size = '16')\n",
    "\n",
    "plt.show()"
   ]
  },
  {
   "cell_type": "markdown",
   "id": "3b7afb8a",
   "metadata": {},
   "source": [
    "### This shows that the number of Movies and TV Shows released on Netflix were quite similar till 2014, because of the low amount of content released till then.\n",
    "\n",
    "### But, since then the number of Movies have outlasted the number of TV Shows, even though both of them have seen a slight drop in the past 2 years.\n",
    "\n",
    "### So, Netflix should not let the content % drop but add more content to maintain and exceede previous levels of content."
   ]
  },
  {
   "cell_type": "markdown",
   "id": "1071c49c",
   "metadata": {},
   "source": [
    "# "
   ]
  },
  {
   "cell_type": "markdown",
   "id": "0e35ee43",
   "metadata": {},
   "source": [
    "## Content Released Over The Years"
   ]
  },
  {
   "cell_type": "code",
   "execution_count": 18,
   "id": "b06b69d6",
   "metadata": {},
   "outputs": [
    {
     "data": {
      "text/html": [
       "<div>\n",
       "<style scoped>\n",
       "    .dataframe tbody tr th:only-of-type {\n",
       "        vertical-align: middle;\n",
       "    }\n",
       "\n",
       "    .dataframe tbody tr th {\n",
       "        vertical-align: top;\n",
       "    }\n",
       "\n",
       "    .dataframe thead th {\n",
       "        text-align: right;\n",
       "    }\n",
       "</style>\n",
       "<table border=\"1\" class=\"dataframe\">\n",
       "  <thead>\n",
       "    <tr style=\"text-align: right;\">\n",
       "      <th></th>\n",
       "      <th>release_year</th>\n",
       "      <th>count</th>\n",
       "      <th>%age</th>\n",
       "    </tr>\n",
       "  </thead>\n",
       "  <tbody>\n",
       "    <tr>\n",
       "      <th>43</th>\n",
       "      <td>1925</td>\n",
       "      <td>1</td>\n",
       "      <td>0.037538</td>\n",
       "    </tr>\n",
       "    <tr>\n",
       "      <th>44</th>\n",
       "      <td>1945</td>\n",
       "      <td>1</td>\n",
       "      <td>0.037538</td>\n",
       "    </tr>\n",
       "    <tr>\n",
       "      <th>36</th>\n",
       "      <td>1946</td>\n",
       "      <td>1</td>\n",
       "      <td>0.037538</td>\n",
       "    </tr>\n",
       "    <tr>\n",
       "      <th>45</th>\n",
       "      <td>1963</td>\n",
       "      <td>1</td>\n",
       "      <td>0.037538</td>\n",
       "    </tr>\n",
       "    <tr>\n",
       "      <th>34</th>\n",
       "      <td>1967</td>\n",
       "      <td>1</td>\n",
       "      <td>0.037538</td>\n",
       "    </tr>\n",
       "    <tr>\n",
       "      <th>38</th>\n",
       "      <td>1972</td>\n",
       "      <td>1</td>\n",
       "      <td>0.037538</td>\n",
       "    </tr>\n",
       "    <tr>\n",
       "      <th>42</th>\n",
       "      <td>1974</td>\n",
       "      <td>1</td>\n",
       "      <td>0.037538</td>\n",
       "    </tr>\n",
       "    <tr>\n",
       "      <th>40</th>\n",
       "      <td>1977</td>\n",
       "      <td>1</td>\n",
       "      <td>0.037538</td>\n",
       "    </tr>\n",
       "    <tr>\n",
       "      <th>39</th>\n",
       "      <td>1979</td>\n",
       "      <td>1</td>\n",
       "      <td>0.037538</td>\n",
       "    </tr>\n",
       "    <tr>\n",
       "      <th>37</th>\n",
       "      <td>1981</td>\n",
       "      <td>1</td>\n",
       "      <td>0.037538</td>\n",
       "    </tr>\n",
       "    <tr>\n",
       "      <th>35</th>\n",
       "      <td>1985</td>\n",
       "      <td>1</td>\n",
       "      <td>0.037538</td>\n",
       "    </tr>\n",
       "    <tr>\n",
       "      <th>29</th>\n",
       "      <td>1986</td>\n",
       "      <td>2</td>\n",
       "      <td>0.075075</td>\n",
       "    </tr>\n",
       "    <tr>\n",
       "      <th>31</th>\n",
       "      <td>1988</td>\n",
       "      <td>2</td>\n",
       "      <td>0.075075</td>\n",
       "    </tr>\n",
       "    <tr>\n",
       "      <th>33</th>\n",
       "      <td>1989</td>\n",
       "      <td>1</td>\n",
       "      <td>0.037538</td>\n",
       "    </tr>\n",
       "    <tr>\n",
       "      <th>26</th>\n",
       "      <td>1990</td>\n",
       "      <td>3</td>\n",
       "      <td>0.112613</td>\n",
       "    </tr>\n",
       "    <tr>\n",
       "      <th>41</th>\n",
       "      <td>1991</td>\n",
       "      <td>1</td>\n",
       "      <td>0.037538</td>\n",
       "    </tr>\n",
       "    <tr>\n",
       "      <th>28</th>\n",
       "      <td>1992</td>\n",
       "      <td>3</td>\n",
       "      <td>0.112613</td>\n",
       "    </tr>\n",
       "    <tr>\n",
       "      <th>23</th>\n",
       "      <td>1993</td>\n",
       "      <td>4</td>\n",
       "      <td>0.150150</td>\n",
       "    </tr>\n",
       "    <tr>\n",
       "      <th>32</th>\n",
       "      <td>1994</td>\n",
       "      <td>2</td>\n",
       "      <td>0.075075</td>\n",
       "    </tr>\n",
       "    <tr>\n",
       "      <th>30</th>\n",
       "      <td>1995</td>\n",
       "      <td>2</td>\n",
       "      <td>0.075075</td>\n",
       "    </tr>\n",
       "    <tr>\n",
       "      <th>27</th>\n",
       "      <td>1996</td>\n",
       "      <td>3</td>\n",
       "      <td>0.112613</td>\n",
       "    </tr>\n",
       "    <tr>\n",
       "      <th>24</th>\n",
       "      <td>1997</td>\n",
       "      <td>4</td>\n",
       "      <td>0.150150</td>\n",
       "    </tr>\n",
       "    <tr>\n",
       "      <th>25</th>\n",
       "      <td>1998</td>\n",
       "      <td>4</td>\n",
       "      <td>0.150150</td>\n",
       "    </tr>\n",
       "    <tr>\n",
       "      <th>20</th>\n",
       "      <td>1999</td>\n",
       "      <td>7</td>\n",
       "      <td>0.262763</td>\n",
       "    </tr>\n",
       "    <tr>\n",
       "      <th>22</th>\n",
       "      <td>2000</td>\n",
       "      <td>4</td>\n",
       "      <td>0.150150</td>\n",
       "    </tr>\n",
       "    <tr>\n",
       "      <th>21</th>\n",
       "      <td>2001</td>\n",
       "      <td>5</td>\n",
       "      <td>0.187688</td>\n",
       "    </tr>\n",
       "    <tr>\n",
       "      <th>19</th>\n",
       "      <td>2002</td>\n",
       "      <td>7</td>\n",
       "      <td>0.262763</td>\n",
       "    </tr>\n",
       "    <tr>\n",
       "      <th>18</th>\n",
       "      <td>2003</td>\n",
       "      <td>8</td>\n",
       "      <td>0.300300</td>\n",
       "    </tr>\n",
       "    <tr>\n",
       "      <th>17</th>\n",
       "      <td>2004</td>\n",
       "      <td>9</td>\n",
       "      <td>0.337838</td>\n",
       "    </tr>\n",
       "    <tr>\n",
       "      <th>16</th>\n",
       "      <td>2005</td>\n",
       "      <td>13</td>\n",
       "      <td>0.487988</td>\n",
       "    </tr>\n",
       "    <tr>\n",
       "      <th>15</th>\n",
       "      <td>2006</td>\n",
       "      <td>14</td>\n",
       "      <td>0.525526</td>\n",
       "    </tr>\n",
       "    <tr>\n",
       "      <th>14</th>\n",
       "      <td>2007</td>\n",
       "      <td>14</td>\n",
       "      <td>0.525526</td>\n",
       "    </tr>\n",
       "    <tr>\n",
       "      <th>13</th>\n",
       "      <td>2008</td>\n",
       "      <td>22</td>\n",
       "      <td>0.825826</td>\n",
       "    </tr>\n",
       "    <tr>\n",
       "      <th>12</th>\n",
       "      <td>2009</td>\n",
       "      <td>34</td>\n",
       "      <td>1.276276</td>\n",
       "    </tr>\n",
       "    <tr>\n",
       "      <th>11</th>\n",
       "      <td>2010</td>\n",
       "      <td>39</td>\n",
       "      <td>1.463964</td>\n",
       "    </tr>\n",
       "    <tr>\n",
       "      <th>10</th>\n",
       "      <td>2011</td>\n",
       "      <td>40</td>\n",
       "      <td>1.501502</td>\n",
       "    </tr>\n",
       "    <tr>\n",
       "      <th>8</th>\n",
       "      <td>2012</td>\n",
       "      <td>63</td>\n",
       "      <td>2.364865</td>\n",
       "    </tr>\n",
       "    <tr>\n",
       "      <th>9</th>\n",
       "      <td>2013</td>\n",
       "      <td>61</td>\n",
       "      <td>2.289790</td>\n",
       "    </tr>\n",
       "    <tr>\n",
       "      <th>7</th>\n",
       "      <td>2014</td>\n",
       "      <td>88</td>\n",
       "      <td>3.303303</td>\n",
       "    </tr>\n",
       "    <tr>\n",
       "      <th>6</th>\n",
       "      <td>2015</td>\n",
       "      <td>159</td>\n",
       "      <td>5.968468</td>\n",
       "    </tr>\n",
       "    <tr>\n",
       "      <th>5</th>\n",
       "      <td>2016</td>\n",
       "      <td>243</td>\n",
       "      <td>9.121622</td>\n",
       "    </tr>\n",
       "    <tr>\n",
       "      <th>4</th>\n",
       "      <td>2017</td>\n",
       "      <td>265</td>\n",
       "      <td>9.947447</td>\n",
       "    </tr>\n",
       "    <tr>\n",
       "      <th>2</th>\n",
       "      <td>2018</td>\n",
       "      <td>379</td>\n",
       "      <td>14.226727</td>\n",
       "    </tr>\n",
       "    <tr>\n",
       "      <th>1</th>\n",
       "      <td>2019</td>\n",
       "      <td>397</td>\n",
       "      <td>14.902402</td>\n",
       "    </tr>\n",
       "    <tr>\n",
       "      <th>0</th>\n",
       "      <td>2020</td>\n",
       "      <td>436</td>\n",
       "      <td>16.366366</td>\n",
       "    </tr>\n",
       "    <tr>\n",
       "      <th>3</th>\n",
       "      <td>2021</td>\n",
       "      <td>315</td>\n",
       "      <td>11.824324</td>\n",
       "    </tr>\n",
       "  </tbody>\n",
       "</table>\n",
       "</div>"
      ],
      "text/plain": [
       "    release_year  count       %age\n",
       "43          1925      1   0.037538\n",
       "44          1945      1   0.037538\n",
       "36          1946      1   0.037538\n",
       "45          1963      1   0.037538\n",
       "34          1967      1   0.037538\n",
       "38          1972      1   0.037538\n",
       "42          1974      1   0.037538\n",
       "40          1977      1   0.037538\n",
       "39          1979      1   0.037538\n",
       "37          1981      1   0.037538\n",
       "35          1985      1   0.037538\n",
       "29          1986      2   0.075075\n",
       "31          1988      2   0.075075\n",
       "33          1989      1   0.037538\n",
       "26          1990      3   0.112613\n",
       "41          1991      1   0.037538\n",
       "28          1992      3   0.112613\n",
       "23          1993      4   0.150150\n",
       "32          1994      2   0.075075\n",
       "30          1995      2   0.075075\n",
       "27          1996      3   0.112613\n",
       "24          1997      4   0.150150\n",
       "25          1998      4   0.150150\n",
       "20          1999      7   0.262763\n",
       "22          2000      4   0.150150\n",
       "21          2001      5   0.187688\n",
       "19          2002      7   0.262763\n",
       "18          2003      8   0.300300\n",
       "17          2004      9   0.337838\n",
       "16          2005     13   0.487988\n",
       "15          2006     14   0.525526\n",
       "14          2007     14   0.525526\n",
       "13          2008     22   0.825826\n",
       "12          2009     34   1.276276\n",
       "11          2010     39   1.463964\n",
       "10          2011     40   1.501502\n",
       "8           2012     63   2.364865\n",
       "9           2013     61   2.289790\n",
       "7           2014     88   3.303303\n",
       "6           2015    159   5.968468\n",
       "5           2016    243   9.121622\n",
       "4           2017    265   9.947447\n",
       "2           2018    379  14.226727\n",
       "1           2019    397  14.902402\n",
       "0           2020    436  16.366366\n",
       "3           2021    315  11.824324"
      ]
     },
     "execution_count": 18,
     "metadata": {},
     "output_type": "execute_result"
    }
   ],
   "source": [
    "tv_show_release_years = tv_show_df[\"release_year\"].value_counts().reset_index()\n",
    "tv_show_release_years = tv_show_release_years.rename(columns = {\"release_year\" : \"count\", \"index\" : \"release_year\"})\n",
    "tv_show_release_years['%age'] = tv_show_release_years['count'].apply(lambda x : 100 * x / sum(tv_show_release_years['count']))\n",
    "tv_show_release_years = tv_show_release_years.sort_values(\"release_year\")\n",
    "\n",
    "tv_show_release_years"
   ]
  },
  {
   "cell_type": "code",
   "execution_count": 19,
   "id": "56e73319",
   "metadata": {},
   "outputs": [
    {
     "data": {
      "text/html": [
       "<div>\n",
       "<style scoped>\n",
       "    .dataframe tbody tr th:only-of-type {\n",
       "        vertical-align: middle;\n",
       "    }\n",
       "\n",
       "    .dataframe tbody tr th {\n",
       "        vertical-align: top;\n",
       "    }\n",
       "\n",
       "    .dataframe thead th {\n",
       "        text-align: right;\n",
       "    }\n",
       "</style>\n",
       "<table border=\"1\" class=\"dataframe\">\n",
       "  <thead>\n",
       "    <tr style=\"text-align: right;\">\n",
       "      <th></th>\n",
       "      <th>release_year</th>\n",
       "      <th>count</th>\n",
       "      <th>%age</th>\n",
       "    </tr>\n",
       "  </thead>\n",
       "  <tbody>\n",
       "    <tr>\n",
       "      <th>60</th>\n",
       "      <td>1942</td>\n",
       "      <td>2</td>\n",
       "      <td>0.032648</td>\n",
       "    </tr>\n",
       "    <tr>\n",
       "      <th>53</th>\n",
       "      <td>1943</td>\n",
       "      <td>3</td>\n",
       "      <td>0.048972</td>\n",
       "    </tr>\n",
       "    <tr>\n",
       "      <th>55</th>\n",
       "      <td>1944</td>\n",
       "      <td>3</td>\n",
       "      <td>0.048972</td>\n",
       "    </tr>\n",
       "    <tr>\n",
       "      <th>57</th>\n",
       "      <td>1945</td>\n",
       "      <td>3</td>\n",
       "      <td>0.048972</td>\n",
       "    </tr>\n",
       "    <tr>\n",
       "      <th>70</th>\n",
       "      <td>1946</td>\n",
       "      <td>1</td>\n",
       "      <td>0.016324</td>\n",
       "    </tr>\n",
       "    <tr>\n",
       "      <th>...</th>\n",
       "      <td>...</td>\n",
       "      <td>...</td>\n",
       "      <td>...</td>\n",
       "    </tr>\n",
       "    <tr>\n",
       "      <th>1</th>\n",
       "      <td>2017</td>\n",
       "      <td>765</td>\n",
       "      <td>12.487757</td>\n",
       "    </tr>\n",
       "    <tr>\n",
       "      <th>0</th>\n",
       "      <td>2018</td>\n",
       "      <td>767</td>\n",
       "      <td>12.520405</td>\n",
       "    </tr>\n",
       "    <tr>\n",
       "      <th>3</th>\n",
       "      <td>2019</td>\n",
       "      <td>633</td>\n",
       "      <td>10.333007</td>\n",
       "    </tr>\n",
       "    <tr>\n",
       "      <th>4</th>\n",
       "      <td>2020</td>\n",
       "      <td>517</td>\n",
       "      <td>8.439438</td>\n",
       "    </tr>\n",
       "    <tr>\n",
       "      <th>6</th>\n",
       "      <td>2021</td>\n",
       "      <td>277</td>\n",
       "      <td>4.521711</td>\n",
       "    </tr>\n",
       "  </tbody>\n",
       "</table>\n",
       "<p>73 rows × 3 columns</p>\n",
       "</div>"
      ],
      "text/plain": [
       "    release_year  count       %age\n",
       "60          1942      2   0.032648\n",
       "53          1943      3   0.048972\n",
       "55          1944      3   0.048972\n",
       "57          1945      3   0.048972\n",
       "70          1946      1   0.016324\n",
       "..           ...    ...        ...\n",
       "1           2017    765  12.487757\n",
       "0           2018    767  12.520405\n",
       "3           2019    633  10.333007\n",
       "4           2020    517   8.439438\n",
       "6           2021    277   4.521711\n",
       "\n",
       "[73 rows x 3 columns]"
      ]
     },
     "execution_count": 19,
     "metadata": {},
     "output_type": "execute_result"
    }
   ],
   "source": [
    "movie_release_years = movie_df[\"release_year\"].value_counts().reset_index()\n",
    "movie_release_years = movie_release_years.rename(columns = {\"release_year\" : \"count\", \"index\" : \"release_year\"})\n",
    "movie_release_years['%age'] = movie_release_years['count'].apply(lambda x : 100 * x / sum(movie_release_years['count']))\n",
    "movie_release_years = movie_release_years.sort_values(\"release_year\")\n",
    "\n",
    "movie_release_years"
   ]
  },
  {
   "cell_type": "code",
   "execution_count": 20,
   "id": "8cbd9cfd",
   "metadata": {},
   "outputs": [
    {
     "data": {
      "image/png": "[encoded data removed]",
      "text/plain": [
       "<Figure size 1152x864 with 1 Axes>"
      ]
     },
     "metadata": {
      "needs_background": "light"
     },
     "output_type": "display_data"
    }
   ],
   "source": [
    "plt.figure(figsize = (16, 12))\n",
    "plt.bar(tv_show_release_years['release_year'] - 0.2, tv_show_release_years['count'], 0.4, color = '#976cc6')\n",
    "plt.bar(movie_release_years['release_year'] + 0.2, movie_release_years['count'], 0.4, color = '#25cfc6')\n",
    "\n",
    "plt.legend(['TV Shows', 'Movies'])\n",
    "\n",
    "plt.title('TV Shows and Movies Released each Year', size = '16')\n",
    "\n",
    "plt.show()"
   ]
  },
  {
   "cell_type": "markdown",
   "id": "770f163a",
   "metadata": {},
   "source": [
    "### This shows that historically Movies were released more than TV Shows and the count of content released started exponentially increasing majorly from the yer 2000 onwards.\n",
    "\n",
    "### In the past 5-6 years, the count of TV Shows being released have also increased, as compared to the previous growth.\n",
    "\n",
    "### So, Netflix should add more recently released content or content released after 2010 preferably. "
   ]
  },
  {
   "cell_type": "markdown",
   "id": "941a2f11",
   "metadata": {},
   "source": [
    "# "
   ]
  },
  {
   "cell_type": "markdown",
   "id": "9ff09099",
   "metadata": {},
   "source": [
    "## In Which Month shall Content be Released?"
   ]
  },
  {
   "cell_type": "code",
   "execution_count": 21,
   "id": "b5b7e76d",
   "metadata": {},
   "outputs": [
    {
     "data": {
      "text/html": [
       "<div>\n",
       "<style scoped>\n",
       "    .dataframe tbody tr th:only-of-type {\n",
       "        vertical-align: middle;\n",
       "    }\n",
       "\n",
       "    .dataframe tbody tr th {\n",
       "        vertical-align: top;\n",
       "    }\n",
       "\n",
       "    .dataframe thead th {\n",
       "        text-align: right;\n",
       "    }\n",
       "</style>\n",
       "<table border=\"1\" class=\"dataframe\">\n",
       "  <thead>\n",
       "    <tr style=\"text-align: right;\">\n",
       "      <th></th>\n",
       "      <th>month_added</th>\n",
       "      <th>count</th>\n",
       "      <th>%age</th>\n",
       "    </tr>\n",
       "  </thead>\n",
       "  <tbody>\n",
       "    <tr>\n",
       "      <th>10</th>\n",
       "      <td>1</td>\n",
       "      <td>192</td>\n",
       "      <td>7.207207</td>\n",
       "    </tr>\n",
       "    <tr>\n",
       "      <th>11</th>\n",
       "      <td>2</td>\n",
       "      <td>180</td>\n",
       "      <td>6.756757</td>\n",
       "    </tr>\n",
       "    <tr>\n",
       "      <th>7</th>\n",
       "      <td>3</td>\n",
       "      <td>213</td>\n",
       "      <td>7.995495</td>\n",
       "    </tr>\n",
       "    <tr>\n",
       "      <th>6</th>\n",
       "      <td>4</td>\n",
       "      <td>214</td>\n",
       "      <td>8.033033</td>\n",
       "    </tr>\n",
       "    <tr>\n",
       "      <th>9</th>\n",
       "      <td>5</td>\n",
       "      <td>193</td>\n",
       "      <td>7.244745</td>\n",
       "    </tr>\n",
       "    <tr>\n",
       "      <th>4</th>\n",
       "      <td>6</td>\n",
       "      <td>236</td>\n",
       "      <td>8.858859</td>\n",
       "    </tr>\n",
       "    <tr>\n",
       "      <th>1</th>\n",
       "      <td>7</td>\n",
       "      <td>262</td>\n",
       "      <td>9.834835</td>\n",
       "    </tr>\n",
       "    <tr>\n",
       "      <th>3</th>\n",
       "      <td>8</td>\n",
       "      <td>236</td>\n",
       "      <td>8.858859</td>\n",
       "    </tr>\n",
       "    <tr>\n",
       "      <th>2</th>\n",
       "      <td>9</td>\n",
       "      <td>251</td>\n",
       "      <td>9.421922</td>\n",
       "    </tr>\n",
       "    <tr>\n",
       "      <th>5</th>\n",
       "      <td>10</td>\n",
       "      <td>215</td>\n",
       "      <td>8.070571</td>\n",
       "    </tr>\n",
       "    <tr>\n",
       "      <th>8</th>\n",
       "      <td>11</td>\n",
       "      <td>207</td>\n",
       "      <td>7.770270</td>\n",
       "    </tr>\n",
       "    <tr>\n",
       "      <th>0</th>\n",
       "      <td>12</td>\n",
       "      <td>265</td>\n",
       "      <td>9.947447</td>\n",
       "    </tr>\n",
       "  </tbody>\n",
       "</table>\n",
       "</div>"
      ],
      "text/plain": [
       "    month_added  count      %age\n",
       "10            1    192  7.207207\n",
       "11            2    180  6.756757\n",
       "7             3    213  7.995495\n",
       "6             4    214  8.033033\n",
       "9             5    193  7.244745\n",
       "4             6    236  8.858859\n",
       "1             7    262  9.834835\n",
       "3             8    236  8.858859\n",
       "2             9    251  9.421922\n",
       "5            10    215  8.070571\n",
       "8            11    207  7.770270\n",
       "0            12    265  9.947447"
      ]
     },
     "execution_count": 21,
     "metadata": {},
     "output_type": "execute_result"
    }
   ],
   "source": [
    "tv_show_months = tv_show_df['month_added'].value_counts().reset_index()\n",
    "tv_show_months = tv_show_months.rename(columns = {'month_added' : \"count\", \"index\" : 'month_added'})\n",
    "tv_show_months['%age'] = tv_show_months['count'].apply(lambda x : 100 * x / sum(tv_show_months['count']))\n",
    "tv_show_months = tv_show_months.sort_values('month_added')\n",
    "\n",
    "tv_show_months"
   ]
  },
  {
   "cell_type": "code",
   "execution_count": 22,
   "id": "93107e33",
   "metadata": {},
   "outputs": [
    {
     "data": {
      "text/html": [
       "<div>\n",
       "<style scoped>\n",
       "    .dataframe tbody tr th:only-of-type {\n",
       "        vertical-align: middle;\n",
       "    }\n",
       "\n",
       "    .dataframe tbody tr th {\n",
       "        vertical-align: top;\n",
       "    }\n",
       "\n",
       "    .dataframe thead th {\n",
       "        text-align: right;\n",
       "    }\n",
       "</style>\n",
       "<table border=\"1\" class=\"dataframe\">\n",
       "  <thead>\n",
       "    <tr style=\"text-align: right;\">\n",
       "      <th></th>\n",
       "      <th>month_added</th>\n",
       "      <th>count</th>\n",
       "      <th>%age</th>\n",
       "    </tr>\n",
       "  </thead>\n",
       "  <tbody>\n",
       "    <tr>\n",
       "      <th>3</th>\n",
       "      <td>1</td>\n",
       "      <td>545</td>\n",
       "      <td>8.896507</td>\n",
       "    </tr>\n",
       "    <tr>\n",
       "      <th>11</th>\n",
       "      <td>2</td>\n",
       "      <td>382</td>\n",
       "      <td>6.235717</td>\n",
       "    </tr>\n",
       "    <tr>\n",
       "      <th>5</th>\n",
       "      <td>3</td>\n",
       "      <td>528</td>\n",
       "      <td>8.619001</td>\n",
       "    </tr>\n",
       "    <tr>\n",
       "      <th>1</th>\n",
       "      <td>4</td>\n",
       "      <td>549</td>\n",
       "      <td>8.961802</td>\n",
       "    </tr>\n",
       "    <tr>\n",
       "      <th>10</th>\n",
       "      <td>5</td>\n",
       "      <td>439</td>\n",
       "      <td>7.166177</td>\n",
       "    </tr>\n",
       "    <tr>\n",
       "      <th>9</th>\n",
       "      <td>6</td>\n",
       "      <td>492</td>\n",
       "      <td>8.031342</td>\n",
       "    </tr>\n",
       "    <tr>\n",
       "      <th>0</th>\n",
       "      <td>7</td>\n",
       "      <td>565</td>\n",
       "      <td>9.222984</td>\n",
       "    </tr>\n",
       "    <tr>\n",
       "      <th>7</th>\n",
       "      <td>8</td>\n",
       "      <td>518</td>\n",
       "      <td>8.455762</td>\n",
       "    </tr>\n",
       "    <tr>\n",
       "      <th>6</th>\n",
       "      <td>9</td>\n",
       "      <td>518</td>\n",
       "      <td>8.455762</td>\n",
       "    </tr>\n",
       "    <tr>\n",
       "      <th>4</th>\n",
       "      <td>10</td>\n",
       "      <td>545</td>\n",
       "      <td>8.896507</td>\n",
       "    </tr>\n",
       "    <tr>\n",
       "      <th>8</th>\n",
       "      <td>11</td>\n",
       "      <td>498</td>\n",
       "      <td>8.129285</td>\n",
       "    </tr>\n",
       "    <tr>\n",
       "      <th>2</th>\n",
       "      <td>12</td>\n",
       "      <td>547</td>\n",
       "      <td>8.929154</td>\n",
       "    </tr>\n",
       "  </tbody>\n",
       "</table>\n",
       "</div>"
      ],
      "text/plain": [
       "    month_added  count      %age\n",
       "3             1    545  8.896507\n",
       "11            2    382  6.235717\n",
       "5             3    528  8.619001\n",
       "1             4    549  8.961802\n",
       "10            5    439  7.166177\n",
       "9             6    492  8.031342\n",
       "0             7    565  9.222984\n",
       "7             8    518  8.455762\n",
       "6             9    518  8.455762\n",
       "4            10    545  8.896507\n",
       "8            11    498  8.129285\n",
       "2            12    547  8.929154"
      ]
     },
     "execution_count": 22,
     "metadata": {},
     "output_type": "execute_result"
    }
   ],
   "source": [
    "movie_months = movie_df['month_added'].value_counts().reset_index()\n",
    "movie_months = movie_months.rename(columns = {'month_added' : \"count\", \"index\" : 'month_added'})\n",
    "movie_months['%age'] = movie_months['count'].apply(lambda x : 100 * x / sum(movie_months['count']))\n",
    "movie_months = movie_months.sort_values('month_added')\n",
    "\n",
    "movie_months"
   ]
  },
  {
   "cell_type": "code",
   "execution_count": 23,
   "id": "d970bf7b",
   "metadata": {},
   "outputs": [
    {
     "data": {
      "image/png": "[encoded data removed]",
      "text/plain": [
       "<Figure size 864x720 with 1 Axes>"
      ]
     },
     "metadata": {
      "needs_background": "light"
     },
     "output_type": "display_data"
    }
   ],
   "source": [
    "plt.figure(figsize = (12,10))\n",
    "plt.bar(tv_show_months['month_added'] - 0.2, tv_show_months['count'], 0.4, color = '#976cc6')\n",
    "plt.bar(movie_months['month_added'] + 0.2, movie_months['count'], 0.4, color = '#25cfc6')\n",
    "\n",
    "plt.legend(['TV Shows', 'Movies'])\n",
    "\n",
    "plt.title('TV Shows and Movies Added each Month', size = '16')\n",
    "\n",
    "plt.show()"
   ]
  },
  {
   "cell_type": "markdown",
   "id": "7c334402",
   "metadata": {},
   "source": [
    "### This shows that TV Shows are released the least in February and the most in December.\n",
    "\n",
    "### This shows that Movies are released the least in February and the most in July.\n",
    "\n",
    "### From a Producer's point of view, it would be beneficial if you release any TV Show or Movie in the month of February as the least amount of content is added in this month so, competition would be significantly less."
   ]
  },
  {
   "cell_type": "markdown",
   "id": "f5a172bf",
   "metadata": {},
   "source": [
    "# "
   ]
  },
  {
   "cell_type": "markdown",
   "id": "f5d953c8",
   "metadata": {},
   "source": [
    "## Release of Content Month-Wise Over the Years"
   ]
  },
  {
   "cell_type": "code",
   "execution_count": 24,
   "id": "0ab07ddc",
   "metadata": {},
   "outputs": [
    {
     "name": "stderr",
     "output_type": "stream",
     "text": [
      "/var/folders/f2/h2z5v1pd3klgdmqks5h6ygh00000gn/T/ipykernel_30314/1848784781.py:2: SettingWithCopyWarning: \n",
      "A value is trying to be set on a copy of a slice from a DataFrame.\n",
      "Try using .loc[row_indexer,col_indexer] = value instead\n",
      "\n",
      "See the caveats in the documentation: https://pandas.pydata.org/pandas-docs/stable/user_guide/indexing.html#returning-a-view-versus-a-copy\n",
      "  date_of_addition['year'] = df[['year_added']]\n",
      "/var/folders/f2/h2z5v1pd3klgdmqks5h6ygh00000gn/T/ipykernel_30314/1848784781.py:3: SettingWithCopyWarning: \n",
      "A value is trying to be set on a copy of a slice from a DataFrame.\n",
      "Try using .loc[row_indexer,col_indexer] = value instead\n",
      "\n",
      "See the caveats in the documentation: https://pandas.pydata.org/pandas-docs/stable/user_guide/indexing.html#returning-a-view-versus-a-copy\n",
      "  date_of_addition['month'] = df[['month_added']]\n",
      "/var/folders/f2/h2z5v1pd3klgdmqks5h6ygh00000gn/T/ipykernel_30314/1848784781.py:5: SettingWithCopyWarning: \n",
      "A value is trying to be set on a copy of a slice from a DataFrame.\n",
      "Try using .loc[row_indexer,col_indexer] = value instead\n",
      "\n",
      "See the caveats in the documentation: https://pandas.pydata.org/pandas-docs/stable/user_guide/indexing.html#returning-a-view-versus-a-copy\n",
      "  date_of_addition['month'] = date_of_addition['month'].apply(lambda x: calendar.month_abbr[x])\n"
     ]
    }
   ],
   "source": [
    "date_of_addition = df[['date_added']]\n",
    "date_of_addition['year'] = df[['year_added']]\n",
    "date_of_addition['month'] = df[['month_added']]\n",
    "\n",
    "date_of_addition['month'] = date_of_addition['month'].apply(lambda x: calendar.month_abbr[x])\n",
    "                                                                                                                                         \n",
    "df1 = date_of_addition.groupby('year')['month'].value_counts().unstack().fillna(0).T"
   ]
  },
  {
   "cell_type": "code",
   "execution_count": 25,
   "id": "5b20365a",
   "metadata": {},
   "outputs": [
    {
     "data": {
      "image/png": "[encoded data removed]",
      "text/plain": [
       "<Figure size 2000x1600 with 2 Axes>"
      ]
     },
     "metadata": {
      "needs_background": "light"
     },
     "output_type": "display_data"
    }
   ],
   "source": [
    "plt.figure(figsize = (10, 8), dpi = 200)\n",
    "plt.pcolor(df1, cmap = 'afmhot_r', edgecolors = 'black', linewidths = 2) \n",
    "plt.xticks(np.arange(0.5, len(df1.columns), 1), df1.columns)\n",
    "plt.yticks(np.arange(0.5, len(df1.index), 1), df1.index)\n",
    "\n",
    "cbar = plt.colorbar()\n",
    "\n",
    "cbar.ax.tick_params(labelsize = 10) \n",
    "cbar.ax.minorticks_on()\n",
    "\n",
    "plt.title('Content Added each Month Over the Years', size = '12')\n",
    "\n",
    "plt.show()"
   ]
  },
  {
   "cell_type": "markdown",
   "id": "f5d6f4de",
   "metadata": {},
   "source": [
    "### This shows the specific months over the years when less or more content was added to Netflix."
   ]
  },
  {
   "cell_type": "markdown",
   "id": "48f31e7b",
   "metadata": {},
   "source": [
    "# "
   ]
  },
  {
   "cell_type": "markdown",
   "id": "6a8f46f4",
   "metadata": {},
   "source": [
    "## Ratings of TV Shows Released"
   ]
  },
  {
   "cell_type": "code",
   "execution_count": 26,
   "id": "2237801a",
   "metadata": {},
   "outputs": [
    {
     "data": {
      "text/html": [
       "<div>\n",
       "<style scoped>\n",
       "    .dataframe tbody tr th:only-of-type {\n",
       "        vertical-align: middle;\n",
       "    }\n",
       "\n",
       "    .dataframe tbody tr th {\n",
       "        vertical-align: top;\n",
       "    }\n",
       "\n",
       "    .dataframe thead th {\n",
       "        text-align: right;\n",
       "    }\n",
       "</style>\n",
       "<table border=\"1\" class=\"dataframe\">\n",
       "  <thead>\n",
       "    <tr style=\"text-align: right;\">\n",
       "      <th></th>\n",
       "      <th>rating</th>\n",
       "      <th>count</th>\n",
       "      <th>%age</th>\n",
       "    </tr>\n",
       "  </thead>\n",
       "  <tbody>\n",
       "    <tr>\n",
       "      <th>6</th>\n",
       "      <td>NR</td>\n",
       "      <td>4</td>\n",
       "      <td>0.150150</td>\n",
       "    </tr>\n",
       "    <tr>\n",
       "      <th>7</th>\n",
       "      <td>R</td>\n",
       "      <td>2</td>\n",
       "      <td>0.075075</td>\n",
       "    </tr>\n",
       "    <tr>\n",
       "      <th>1</th>\n",
       "      <td>TV-14</td>\n",
       "      <td>730</td>\n",
       "      <td>27.402402</td>\n",
       "    </tr>\n",
       "    <tr>\n",
       "      <th>5</th>\n",
       "      <td>TV-G</td>\n",
       "      <td>94</td>\n",
       "      <td>3.528529</td>\n",
       "    </tr>\n",
       "    <tr>\n",
       "      <th>0</th>\n",
       "      <td>TV-MA</td>\n",
       "      <td>1143</td>\n",
       "      <td>42.905405</td>\n",
       "    </tr>\n",
       "    <tr>\n",
       "      <th>2</th>\n",
       "      <td>TV-PG</td>\n",
       "      <td>321</td>\n",
       "      <td>12.049550</td>\n",
       "    </tr>\n",
       "    <tr>\n",
       "      <th>4</th>\n",
       "      <td>TV-Y</td>\n",
       "      <td>175</td>\n",
       "      <td>6.569069</td>\n",
       "    </tr>\n",
       "    <tr>\n",
       "      <th>3</th>\n",
       "      <td>TV-Y7</td>\n",
       "      <td>194</td>\n",
       "      <td>7.282282</td>\n",
       "    </tr>\n",
       "    <tr>\n",
       "      <th>8</th>\n",
       "      <td>TV-Y7-FV</td>\n",
       "      <td>1</td>\n",
       "      <td>0.037538</td>\n",
       "    </tr>\n",
       "  </tbody>\n",
       "</table>\n",
       "</div>"
      ],
      "text/plain": [
       "     rating  count       %age\n",
       "6        NR      4   0.150150\n",
       "7         R      2   0.075075\n",
       "1     TV-14    730  27.402402\n",
       "5      TV-G     94   3.528529\n",
       "0     TV-MA   1143  42.905405\n",
       "2     TV-PG    321  12.049550\n",
       "4      TV-Y    175   6.569069\n",
       "3     TV-Y7    194   7.282282\n",
       "8  TV-Y7-FV      1   0.037538"
      ]
     },
     "execution_count": 26,
     "metadata": {},
     "output_type": "execute_result"
    }
   ],
   "source": [
    "tv_show_ratings = tv_show_df['rating'].value_counts().reset_index()\n",
    "tv_show_ratings = tv_show_ratings.rename(columns = {'rating' : \"count\", \"index\" : 'rating'})\n",
    "tv_show_ratings['%age'] = tv_show_ratings['count'].apply(lambda x : 100 * x / sum(tv_show_ratings['count']))\n",
    "tv_show_ratings = tv_show_ratings.sort_values('rating')\n",
    "\n",
    "tv_show_ratings"
   ]
  },
  {
   "cell_type": "code",
   "execution_count": 27,
   "id": "c1514c76",
   "metadata": {},
   "outputs": [
    {
     "data": {
      "text/plain": [
       "Text(0.5, 1.0, 'Ratings of TV Shows')"
      ]
     },
     "execution_count": 27,
     "metadata": {},
     "output_type": "execute_result"
    },
    {
     "data": {
      "image/png": "[encoded data removed]",
      "text/plain": [
       "<Figure size 864x720 with 1 Axes>"
      ]
     },
     "metadata": {
      "needs_background": "light"
     },
     "output_type": "display_data"
    }
   ],
   "source": [
    "plt.figure(figsize = (12,10))\n",
    "sns.countplot(x = 'rating', data = tv_show_df, palette = \"Set2\")\n",
    "\n",
    "plt.title('Ratings of TV Shows', size = '16')"
   ]
  },
  {
   "cell_type": "markdown",
   "id": "394aad82",
   "metadata": {},
   "source": [
    "### This shows that TV-MA and TV-14 rated TV Shows are released the most so they are most likely to bring in more revenue due to more popularity.\n",
    "### Whereas R, NR and TV-Y7-FV rated TV Shows are released the least so Netflix can avoid them accordingly."
   ]
  },
  {
   "cell_type": "markdown",
   "id": "24d5ff04",
   "metadata": {},
   "source": [
    "# "
   ]
  },
  {
   "cell_type": "markdown",
   "id": "020aa7b9",
   "metadata": {},
   "source": [
    "## Ratings of Movies Released"
   ]
  },
  {
   "cell_type": "code",
   "execution_count": 28,
   "id": "e847449c",
   "metadata": {},
   "outputs": [
    {
     "data": {
      "text/html": [
       "<div>\n",
       "<style scoped>\n",
       "    .dataframe tbody tr th:only-of-type {\n",
       "        vertical-align: middle;\n",
       "    }\n",
       "\n",
       "    .dataframe tbody tr th {\n",
       "        vertical-align: top;\n",
       "    }\n",
       "\n",
       "    .dataframe thead th {\n",
       "        text-align: right;\n",
       "    }\n",
       "</style>\n",
       "<table border=\"1\" class=\"dataframe\">\n",
       "  <thead>\n",
       "    <tr style=\"text-align: right;\">\n",
       "      <th></th>\n",
       "      <th>rating</th>\n",
       "      <th>count</th>\n",
       "      <th>%age</th>\n",
       "    </tr>\n",
       "  </thead>\n",
       "  <tbody>\n",
       "    <tr>\n",
       "      <th>10</th>\n",
       "      <td>G</td>\n",
       "      <td>41</td>\n",
       "      <td>0.669278</td>\n",
       "    </tr>\n",
       "    <tr>\n",
       "      <th>12</th>\n",
       "      <td>NC-17</td>\n",
       "      <td>3</td>\n",
       "      <td>0.048972</td>\n",
       "    </tr>\n",
       "    <tr>\n",
       "      <th>9</th>\n",
       "      <td>NR</td>\n",
       "      <td>75</td>\n",
       "      <td>1.224290</td>\n",
       "    </tr>\n",
       "    <tr>\n",
       "      <th>5</th>\n",
       "      <td>PG</td>\n",
       "      <td>287</td>\n",
       "      <td>4.684949</td>\n",
       "    </tr>\n",
       "    <tr>\n",
       "      <th>4</th>\n",
       "      <td>PG-13</td>\n",
       "      <td>490</td>\n",
       "      <td>7.998694</td>\n",
       "    </tr>\n",
       "    <tr>\n",
       "      <th>2</th>\n",
       "      <td>R</td>\n",
       "      <td>797</td>\n",
       "      <td>13.010121</td>\n",
       "    </tr>\n",
       "    <tr>\n",
       "      <th>1</th>\n",
       "      <td>TV-14</td>\n",
       "      <td>1427</td>\n",
       "      <td>23.294156</td>\n",
       "    </tr>\n",
       "    <tr>\n",
       "      <th>8</th>\n",
       "      <td>TV-G</td>\n",
       "      <td>126</td>\n",
       "      <td>2.056807</td>\n",
       "    </tr>\n",
       "    <tr>\n",
       "      <th>0</th>\n",
       "      <td>TV-MA</td>\n",
       "      <td>2062</td>\n",
       "      <td>33.659811</td>\n",
       "    </tr>\n",
       "    <tr>\n",
       "      <th>3</th>\n",
       "      <td>TV-PG</td>\n",
       "      <td>540</td>\n",
       "      <td>8.814887</td>\n",
       "    </tr>\n",
       "    <tr>\n",
       "      <th>7</th>\n",
       "      <td>TV-Y</td>\n",
       "      <td>131</td>\n",
       "      <td>2.138426</td>\n",
       "    </tr>\n",
       "    <tr>\n",
       "      <th>6</th>\n",
       "      <td>TV-Y7</td>\n",
       "      <td>139</td>\n",
       "      <td>2.269017</td>\n",
       "    </tr>\n",
       "    <tr>\n",
       "      <th>11</th>\n",
       "      <td>TV-Y7-FV</td>\n",
       "      <td>5</td>\n",
       "      <td>0.081619</td>\n",
       "    </tr>\n",
       "    <tr>\n",
       "      <th>13</th>\n",
       "      <td>UR</td>\n",
       "      <td>3</td>\n",
       "      <td>0.048972</td>\n",
       "    </tr>\n",
       "  </tbody>\n",
       "</table>\n",
       "</div>"
      ],
      "text/plain": [
       "      rating  count       %age\n",
       "10         G     41   0.669278\n",
       "12     NC-17      3   0.048972\n",
       "9         NR     75   1.224290\n",
       "5         PG    287   4.684949\n",
       "4      PG-13    490   7.998694\n",
       "2          R    797  13.010121\n",
       "1      TV-14   1427  23.294156\n",
       "8       TV-G    126   2.056807\n",
       "0      TV-MA   2062  33.659811\n",
       "3      TV-PG    540   8.814887\n",
       "7       TV-Y    131   2.138426\n",
       "6      TV-Y7    139   2.269017\n",
       "11  TV-Y7-FV      5   0.081619\n",
       "13        UR      3   0.048972"
      ]
     },
     "execution_count": 28,
     "metadata": {},
     "output_type": "execute_result"
    }
   ],
   "source": [
    "movie_ratings = movie_df['rating'].value_counts().reset_index()\n",
    "movie_ratings = movie_ratings.rename(columns = {'rating' : \"count\", \"index\" : 'rating'})\n",
    "movie_ratings['%age'] = movie_ratings['count'].apply(lambda x : 100 * x / sum(movie_ratings['count']))\n",
    "movie_ratings = movie_ratings.sort_values('rating')\n",
    "\n",
    "movie_ratings"
   ]
  },
  {
   "cell_type": "code",
   "execution_count": 29,
   "id": "2823a144",
   "metadata": {},
   "outputs": [
    {
     "data": {
      "image/png": "[encoded data removed]",
      "text/plain": [
       "<Figure size 864x720 with 1 Axes>"
      ]
     },
     "metadata": {
      "needs_background": "light"
     },
     "output_type": "display_data"
    }
   ],
   "source": [
    "plt.figure(figsize = (12,10))\n",
    "sns.countplot(x = 'rating', data = movie_df, palette = \"Set2\", order = movie_df['rating'].value_counts().index[0:14])\n",
    "\n",
    "plt.title('Ratings of Movies', size = '16')\n",
    "\n",
    "plt.show()"
   ]
  },
  {
   "cell_type": "markdown",
   "id": "3dc605a2",
   "metadata": {},
   "source": [
    "### This shows that TV-MA and TV-14 rated Movies are released the most so they are most likely to bring in more revenue due to more popularity.\n",
    "\n",
    "### Whereas TV-Y7-FV, NC-17 and UR rated Movies are released the least so Netflix can avoid them accordingly."
   ]
  },
  {
   "cell_type": "markdown",
   "id": "21d1bbe3",
   "metadata": {},
   "source": [
    "# "
   ]
  },
  {
   "cell_type": "markdown",
   "id": "f0ddf126",
   "metadata": {},
   "source": [
    "## Volume of Overall Content Released in Countries"
   ]
  },
  {
   "cell_type": "code",
   "execution_count": 30,
   "id": "754a34df",
   "metadata": {},
   "outputs": [
    {
     "data": {
      "text/html": [
       "<div>\n",
       "<style scoped>\n",
       "    .dataframe tbody tr th:only-of-type {\n",
       "        vertical-align: middle;\n",
       "    }\n",
       "\n",
       "    .dataframe tbody tr th {\n",
       "        vertical-align: top;\n",
       "    }\n",
       "\n",
       "    .dataframe thead th {\n",
       "        text-align: right;\n",
       "    }\n",
       "</style>\n",
       "<table border=\"1\" class=\"dataframe\">\n",
       "  <thead>\n",
       "    <tr style=\"text-align: right;\">\n",
       "      <th></th>\n",
       "      <th>countries</th>\n",
       "      <th>count</th>\n",
       "    </tr>\n",
       "  </thead>\n",
       "  <tbody>\n",
       "    <tr>\n",
       "      <th>0</th>\n",
       "      <td>United States</td>\n",
       "      <td>3638</td>\n",
       "    </tr>\n",
       "    <tr>\n",
       "      <th>1</th>\n",
       "      <td>India</td>\n",
       "      <td>972</td>\n",
       "    </tr>\n",
       "    <tr>\n",
       "      <th>2</th>\n",
       "      <td>United Kingdom</td>\n",
       "      <td>418</td>\n",
       "    </tr>\n",
       "    <tr>\n",
       "      <th>3</th>\n",
       "      <td>Japan</td>\n",
       "      <td>243</td>\n",
       "    </tr>\n",
       "    <tr>\n",
       "      <th>4</th>\n",
       "      <td>South Korea</td>\n",
       "      <td>199</td>\n",
       "    </tr>\n",
       "    <tr>\n",
       "      <th>...</th>\n",
       "      <td>...</td>\n",
       "      <td>...</td>\n",
       "    </tr>\n",
       "    <tr>\n",
       "      <th>743</th>\n",
       "      <td>Romania, Bulgaria, Hungary</td>\n",
       "      <td>1</td>\n",
       "    </tr>\n",
       "    <tr>\n",
       "      <th>744</th>\n",
       "      <td>Uruguay, Guatemala</td>\n",
       "      <td>1</td>\n",
       "    </tr>\n",
       "    <tr>\n",
       "      <th>745</th>\n",
       "      <td>France, Senegal, Belgium</td>\n",
       "      <td>1</td>\n",
       "    </tr>\n",
       "    <tr>\n",
       "      <th>746</th>\n",
       "      <td>Mexico, United States, Spain, Colombia</td>\n",
       "      <td>1</td>\n",
       "    </tr>\n",
       "    <tr>\n",
       "      <th>747</th>\n",
       "      <td>United Arab Emirates, Jordan</td>\n",
       "      <td>1</td>\n",
       "    </tr>\n",
       "  </tbody>\n",
       "</table>\n",
       "<p>748 rows × 2 columns</p>\n",
       "</div>"
      ],
      "text/plain": [
       "                                  countries  count\n",
       "0                             United States   3638\n",
       "1                                     India    972\n",
       "2                            United Kingdom    418\n",
       "3                                     Japan    243\n",
       "4                               South Korea    199\n",
       "..                                      ...    ...\n",
       "743              Romania, Bulgaria, Hungary      1\n",
       "744                      Uruguay, Guatemala      1\n",
       "745                France, Senegal, Belgium      1\n",
       "746  Mexico, United States, Spain, Colombia      1\n",
       "747            United Arab Emirates, Jordan      1\n",
       "\n",
       "[748 rows x 2 columns]"
      ]
     },
     "execution_count": 30,
     "metadata": {},
     "output_type": "execute_result"
    }
   ],
   "source": [
    "countries_content = df['country'].value_counts().reset_index()\n",
    "countries_content = countries_content.rename(columns = {'index' : \"countries\", \"country\" : 'count'})\n",
    "countries_content"
   ]
  },
  {
   "cell_type": "code",
   "execution_count": 31,
   "id": "bd683103",
   "metadata": {},
   "outputs": [
    {
     "data": {
      "text/plain": [
       "Text(0.5, 1.0, 'Volume of Content Released in Countries')"
      ]
     },
     "execution_count": 31,
     "metadata": {},
     "output_type": "execute_result"
    },
    {
     "data": {
      "image/png": "[encoded data removed]",
      "text/plain": [
       "<Figure size 1152x864 with 1 Axes>"
      ]
     },
     "metadata": {
      "needs_background": "light"
     },
     "output_type": "display_data"
    }
   ],
   "source": [
    "plt.figure(figsize = (16,12))\n",
    "sns.countplot(x = 'country', data = df, palette = \"Set2\", order = df['country'].value_counts().index[0:15])\n",
    "\n",
    "plt.title('Volume of Content Released in Countries',size = '16')"
   ]
  },
  {
   "cell_type": "markdown",
   "id": "4fd3368b",
   "metadata": {},
   "source": [
    "### This shows that the highest volume of content are Released in USA and India.\n",
    "\n",
    "### As these are the biggest markets in the world, so Netflix should focus in these countries as a whole."
   ]
  },
  {
   "cell_type": "markdown",
   "id": "20d41271",
   "metadata": {},
   "source": [
    "# "
   ]
  },
  {
   "cell_type": "markdown",
   "id": "da91676a",
   "metadata": {},
   "source": [
    "## Volume of TV Shows Released in Countries"
   ]
  },
  {
   "cell_type": "code",
   "execution_count": 32,
   "id": "a4c32b02",
   "metadata": {},
   "outputs": [],
   "source": [
    "tv_show_countries_dic = {}\n",
    "\n",
    "tv_show_countries_li = list(tv_show_df['country'])\n",
    "\n",
    "for i in tv_show_countries_li:\n",
    "\n",
    "    i = list(i.split(','))\n",
    "    \n",
    "    if (len(i) == 1):\n",
    "        if i in list(tv_show_countries_dic.keys()):\n",
    "            tv_show_countries_dic[i] += 1\n",
    "        else:\n",
    "            tv_show_countries_dic[i[0]] = 1\n",
    "            \n",
    "    else:\n",
    "        for j in i:\n",
    "            if j in list(tv_show_countries_dic.keys()):\n",
    "                tv_show_countries_dic[j] += 1\n",
    "            else:\n",
    "                tv_show_countries_dic[j] = 1"
   ]
  },
  {
   "cell_type": "code",
   "execution_count": 33,
   "id": "22e58606",
   "metadata": {},
   "outputs": [],
   "source": [
    "tv_show_unique_countries = {}\n",
    "\n",
    "for country, count in tv_show_countries_dic.items():\n",
    "    country = country.replace(' ','')\n",
    "    \n",
    "    if country in list(tv_show_unique_countries.keys()):\n",
    "        tv_show_unique_countries[country] += count\n",
    "    else:\n",
    "        tv_show_unique_countries[country] = count\n",
    "        \n",
    "tv_show_unique_countries = {k: v for k, v in sorted(tv_show_unique_countries.items(), key = lambda item: item[1], reverse = True)}"
   ]
  },
  {
   "cell_type": "code",
   "execution_count": 34,
   "id": "b9079a52",
   "metadata": {},
   "outputs": [
    {
     "data": {
      "image/png": "[encoded data removed]",
      "text/plain": [
       "<Figure size 1152x864 with 1 Axes>"
      ]
     },
     "metadata": {
      "needs_background": "light"
     },
     "output_type": "display_data"
    }
   ],
   "source": [
    "plt.figure(figsize = (16, 12))\n",
    "ax = sns.barplot(x = list(tv_show_unique_countries.keys())[0:10], y = list(tv_show_unique_countries.values())[0:10], palette = \"Set2\")\n",
    "ax.set(xlabel = 'Top Countries whose TV Shows are released')\n",
    "ax.set_xticklabels(list(tv_show_unique_countries.keys())[0:10])\n",
    "\n",
    "plt.title('Volume of TV Shows Released in Countries',size = '16')\n",
    "\n",
    "plt.show()"
   ]
  },
  {
   "cell_type": "markdown",
   "id": "47322790",
   "metadata": {},
   "source": [
    "### This shows that the highest volume of TV Shows are Released in USA and Canada.\n",
    "\n",
    "### As these are the biggest markets in the world, so Netflix should focus in these countries for the TV Shows content."
   ]
  },
  {
   "cell_type": "markdown",
   "id": "f4f2f7c2",
   "metadata": {},
   "source": [
    "# "
   ]
  },
  {
   "cell_type": "markdown",
   "id": "defb0424",
   "metadata": {},
   "source": [
    "## Volume of Movies Released in Countries"
   ]
  },
  {
   "cell_type": "code",
   "execution_count": 35,
   "id": "05e0f55d",
   "metadata": {},
   "outputs": [],
   "source": [
    "movie_countries_dic = {}\n",
    "\n",
    "movie_countries_li = list(movie_df['country'])\n",
    "\n",
    "for i in movie_countries_li:\n",
    "\n",
    "    i = list(i.split(','))\n",
    "    \n",
    "    if (len(i) == 1):\n",
    "        if i in list(movie_countries_dic.keys()):\n",
    "            movie_countries_dic[i] += 1\n",
    "        else:\n",
    "            movie_countries_dic[i[0]] = 1\n",
    "            \n",
    "    else:\n",
    "        for j in i:\n",
    "            if j in list(movie_countries_dic.keys()):\n",
    "                movie_countries_dic[j] += 1\n",
    "            else:\n",
    "                movie_countries_dic[j] = 1"
   ]
  },
  {
   "cell_type": "code",
   "execution_count": 36,
   "id": "f2f5dce2",
   "metadata": {},
   "outputs": [],
   "source": [
    "movie_unique_countries = {}\n",
    "\n",
    "for country, count in movie_countries_dic.items():\n",
    "    country = country.replace(' ','')\n",
    "    \n",
    "    if country in list(movie_unique_countries.keys()):\n",
    "        movie_unique_countries[country] += count\n",
    "    else:\n",
    "        movie_unique_countries[country] = count\n",
    "        \n",
    "movie_unique_countries = {k: v for k, v in sorted(movie_unique_countries.items(), key = lambda item: item[1], reverse = True)}\n",
    "\n"
   ]
  },
  {
   "cell_type": "code",
   "execution_count": 37,
   "id": "3c9c1180",
   "metadata": {},
   "outputs": [
    {
     "data": {
      "image/png": "[encoded data removed]",
      "text/plain": [
       "<Figure size 1152x864 with 1 Axes>"
      ]
     },
     "metadata": {
      "needs_background": "light"
     },
     "output_type": "display_data"
    }
   ],
   "source": [
    "plt.figure(figsize = (16, 12))\n",
    "ax = sns.barplot(x = list(movie_unique_countries.keys())[0:10], y = list(movie_unique_countries.values())[0:10], palette = \"Set2\")\n",
    "ax.set(xlabel = 'Top Countries whose Movies are released')\n",
    "ax.set_xticklabels(list(movie_unique_countries.keys())[0:10])\n",
    "\n",
    "plt.title('Volume of Movies Released in Countries',size = '16')\n",
    "\n",
    "plt.show()"
   ]
  },
  {
   "cell_type": "markdown",
   "id": "f40ba74a",
   "metadata": {},
   "source": [
    "### This shows that the highest volume of Movies are Released in USA and France.\n",
    "\n",
    "### As these are the biggest markets in the world, so Netflix should focus in these countries for the Movie content."
   ]
  },
  {
   "cell_type": "markdown",
   "id": "09dad9d6",
   "metadata": {},
   "source": [
    "# "
   ]
  },
  {
   "cell_type": "markdown",
   "id": "acdd60bd",
   "metadata": {},
   "source": [
    "## Top Categories of TV Shows Released"
   ]
  },
  {
   "cell_type": "code",
   "execution_count": 38,
   "id": "98b6bc20",
   "metadata": {},
   "outputs": [],
   "source": [
    "tv_show_cat_dic = {}\n",
    "\n",
    "tv_show_cat_li = list(tv_show_df['listed_in'])\n",
    "\n",
    "for i in tv_show_cat_li:\n",
    "\n",
    "    i = list(i.split(','))\n",
    "    \n",
    "    if (len(i) == 1):\n",
    "        if i in list(tv_show_cat_dic.keys()):\n",
    "            tv_show_cat_dic[i] += 1\n",
    "        else:\n",
    "            tv_show_cat_dic[i[0]] = 1\n",
    "            \n",
    "    else:\n",
    "        for j in i:\n",
    "            if j in list(tv_show_cat_dic.keys()):\n",
    "                tv_show_cat_dic[j] += 1\n",
    "            else:\n",
    "                tv_show_cat_dic[j] = 1"
   ]
  },
  {
   "cell_type": "code",
   "execution_count": 39,
   "id": "485b4d98",
   "metadata": {},
   "outputs": [],
   "source": [
    "tv_show_unique_cat = {}\n",
    "\n",
    "for cat, count in tv_show_cat_dic.items():\n",
    "    cat = cat.replace(' ','')\n",
    "    \n",
    "    if cat in list(tv_show_unique_cat.keys()):\n",
    "        tv_show_unique_cat[cat] += count\n",
    "    else:\n",
    "        tv_show_unique_cat[cat] = count\n",
    "        \n",
    "tv_show_unique_cat = {k: v for k, v in sorted(tv_show_unique_cat.items(), key = lambda item: item[1], reverse = True)}"
   ]
  },
  {
   "cell_type": "code",
   "execution_count": 40,
   "id": "d93fa4f6",
   "metadata": {},
   "outputs": [
    {
     "data": {
      "image/png": "[encoded data removed]",
      "text/plain": [
       "<Figure size 2160x1728 with 1 Axes>"
      ]
     },
     "metadata": {
      "needs_background": "light"
     },
     "output_type": "display_data"
    }
   ],
   "source": [
    "plt.figure(figsize = (30, 24))\n",
    "ax = sns.barplot(x = list(tv_show_unique_cat.keys())[0:15], y = list(tv_show_unique_cat.values())[0:15], palette = \"Set2\")\n",
    "ax.set(xlabel = 'TV Shows Categories')\n",
    "ax.set_xticklabels(list(tv_show_unique_cat.keys()))[0:15]\n",
    "\n",
    "plt.title('Top TV Shows Categories',size = '30')\n",
    "\n",
    "plt.show()"
   ]
  },
  {
   "cell_type": "markdown",
   "id": "e70555e2",
   "metadata": {},
   "source": [
    "### This shows that TV Dramas and International TV Shows are the most type of TV Shows released.\n",
    "\n",
    "### So, Netflix can concentrate on releasing more TV Shows of these categories as compared to less popular categories."
   ]
  },
  {
   "cell_type": "markdown",
   "id": "9b9dbef2",
   "metadata": {},
   "source": [
    "# "
   ]
  },
  {
   "cell_type": "markdown",
   "id": "b692b09f",
   "metadata": {},
   "source": [
    "## Top Categories of Movies Released"
   ]
  },
  {
   "cell_type": "code",
   "execution_count": 41,
   "id": "ce2684c2",
   "metadata": {},
   "outputs": [],
   "source": [
    "movie_cat_dic = {}\n",
    "\n",
    "movie_cat_li = list(movie_df['listed_in'])\n",
    "\n",
    "for i in movie_cat_li:\n",
    "\n",
    "    i = list(i.split(','))\n",
    "    \n",
    "    if (len(i) == 1):\n",
    "        if i in list(movie_cat_dic.keys()):\n",
    "            movie_cat_dic[i] += 1\n",
    "        else:\n",
    "            movie_cat_dic[i[0]] = 1\n",
    "            \n",
    "    else:\n",
    "        for j in i:\n",
    "            if j in list(movie_cat_dic.keys()):\n",
    "                movie_cat_dic[j] += 1\n",
    "            else:\n",
    "                movie_cat_dic[j] = 1"
   ]
  },
  {
   "cell_type": "code",
   "execution_count": 42,
   "id": "6b4e3d88",
   "metadata": {},
   "outputs": [],
   "source": [
    "movie_unique_cat = {}\n",
    "\n",
    "for cat, count in movie_cat_dic.items():\n",
    "    cat = cat.replace(' ','')\n",
    "    \n",
    "    if cat in list(movie_unique_cat.keys()):\n",
    "        movie_unique_cat[cat] += count\n",
    "    else:\n",
    "        movie_unique_cat[cat] = count\n",
    "        \n",
    "movie_unique_cat = {k: v for k, v in sorted(movie_unique_cat.items(), key = lambda item: item[1], reverse = True)}"
   ]
  },
  {
   "cell_type": "code",
   "execution_count": 43,
   "id": "57b9e7d3",
   "metadata": {},
   "outputs": [
    {
     "data": {
      "image/png": "[encoded data removed]",
      "text/plain": [
       "<Figure size 2160x1728 with 1 Axes>"
      ]
     },
     "metadata": {
      "needs_background": "light"
     },
     "output_type": "display_data"
    }
   ],
   "source": [
    "plt.figure(figsize = (30, 24))\n",
    "ax = sns.barplot(x = list(movie_unique_cat.keys())[0:15], y = list(movie_unique_cat.values())[0:15], palette = \"Set2\")\n",
    "ax.set(xlabel = 'Movie Categories')\n",
    "ax.set_xticklabels(list(movie_unique_cat.keys()))[0:15]\n",
    "\n",
    "plt.title('Top Movie Categories',size = '30')\n",
    "\n",
    "plt.show()"
   ]
  },
  {
   "cell_type": "markdown",
   "id": "0b800ec4",
   "metadata": {},
   "source": [
    "### This shows that International Movies and Dramas are the most type of Movies released.\n",
    "### So, Netflix can concentrate on releasing more Movies of these categories as compared to less popular categories."
   ]
  },
  {
   "cell_type": "markdown",
   "id": "3d644868",
   "metadata": {},
   "source": [
    "# "
   ]
  },
  {
   "cell_type": "markdown",
   "id": "e1d73a6a",
   "metadata": {},
   "source": [
    "## Top TV Shows Directors"
   ]
  },
  {
   "cell_type": "code",
   "execution_count": 44,
   "id": "510ffd13",
   "metadata": {},
   "outputs": [],
   "source": [
    "tv_show_director_dic = {}\n",
    "\n",
    "tv_show_director_li = list(tv_show_df['director'])\n",
    "\n",
    "for i in tv_show_director_li:\n",
    "\n",
    "    i = list(i.split(','))\n",
    "    \n",
    "    if (len(i) == 1):\n",
    "        if i in list(tv_show_director_dic.keys()):\n",
    "            tv_show_director_dic[i] += 1\n",
    "        else:\n",
    "            tv_show_director_dic[i[0]] = 1\n",
    "            \n",
    "    else:\n",
    "        for j in i:\n",
    "            if j in list(tv_show_director_dic.keys()):\n",
    "                tv_show_director_dic[j] += 1\n",
    "            else:\n",
    "                tv_show_director_dic[j] = 1"
   ]
  },
  {
   "cell_type": "code",
   "execution_count": 45,
   "id": "5737a4ab",
   "metadata": {},
   "outputs": [],
   "source": [
    "tv_show_unique_director = {}\n",
    "\n",
    "for direc, count in tv_show_director_dic.items():\n",
    "    direc = direc.replace(' ','')\n",
    "    \n",
    "    if cat in list(tv_show_unique_director.keys()):\n",
    "        tv_show_unique_director[direc] += count\n",
    "    else:\n",
    "        tv_show_unique_director[direc] = count\n",
    "        \n",
    "tv_show_unique_director = {k: v for k, v in sorted(tv_show_unique_director.items(), key = lambda item: item[1], reverse = True)}"
   ]
  },
  {
   "cell_type": "code",
   "execution_count": 46,
   "id": "530dd870",
   "metadata": {},
   "outputs": [
    {
     "data": {
      "image/png": "[encoded data removed]",
      "text/plain": [
       "<Figure size 2160x1728 with 1 Axes>"
      ]
     },
     "metadata": {
      "needs_background": "light"
     },
     "output_type": "display_data"
    }
   ],
   "source": [
    "plt.figure(figsize = (30, 24))\n",
    "ax = sns.barplot(x = list(tv_show_unique_director.keys())[0:15], y = list(tv_show_unique_director.values())[0:15], palette = \"Set2\")\n",
    "ax.set(xlabel = 'TV Shows Directors')\n",
    "ax.set_xticklabels(list(tv_show_unique_director.keys()))[0:15]\n",
    "ax.set_yticks(np.arange(0, 3))\n",
    "\n",
    "plt.title('Top TV Shows Directors',size = '30')\n",
    "\n",
    "plt.show()"
   ]
  },
  {
   "cell_type": "markdown",
   "id": "443b702b",
   "metadata": {},
   "source": [
    "### This shows that almost all the Directors have the same experience ranging from 1-2 TV Shows for the Top Directors.\n",
    "\n",
    "### So, adding content based on the Director name isn't much fruitful."
   ]
  },
  {
   "cell_type": "markdown",
   "id": "e7bec246",
   "metadata": {},
   "source": [
    "# "
   ]
  },
  {
   "cell_type": "markdown",
   "id": "550f5548",
   "metadata": {},
   "source": [
    "## Top Movies Directors"
   ]
  },
  {
   "cell_type": "code",
   "execution_count": 47,
   "id": "9bdae23c",
   "metadata": {},
   "outputs": [],
   "source": [
    "movie_director_dic = {}\n",
    "\n",
    "movie_director_li = list(movie_df['director'])\n",
    "\n",
    "for i in movie_director_li:\n",
    "\n",
    "    i = list(i.split(','))\n",
    "    \n",
    "    if (len(i) == 1):\n",
    "        if i in list(movie_director_dic.keys()):\n",
    "            movie_director_dic[i] += 1\n",
    "        else:\n",
    "            movie_director_dic[i[0]] = 1\n",
    "            \n",
    "    else:\n",
    "        for j in i:\n",
    "            if j in list(movie_director_dic.keys()):\n",
    "                movie_director_dic[j] += 1\n",
    "            else:\n",
    "                movie_director_dic[j] = 1"
   ]
  },
  {
   "cell_type": "code",
   "execution_count": 48,
   "id": "6b1663ed",
   "metadata": {},
   "outputs": [],
   "source": [
    "movie_unique_director = {}\n",
    "\n",
    "for direc, count in movie_director_dic.items():\n",
    "    direc = direc.replace(' ','')\n",
    "    \n",
    "    if cat in list(movie_unique_director.keys()):\n",
    "        movie_unique_director[direc] += count\n",
    "    else:\n",
    "        movie_unique_director[direc] = count\n",
    "        \n",
    "movie_unique_director = {k: v for k, v in sorted(movie_unique_director.items(), key = lambda item: item[1], reverse = True)}"
   ]
  },
  {
   "cell_type": "code",
   "execution_count": 49,
   "id": "94e389d3",
   "metadata": {},
   "outputs": [
    {
     "data": {
      "image/png": "[encoded data removed]",
      "text/plain": [
       "<Figure size 2160x1728 with 1 Axes>"
      ]
     },
     "metadata": {
      "needs_background": "light"
     },
     "output_type": "display_data"
    }
   ],
   "source": [
    "plt.figure(figsize = (30, 24))\n",
    "ax = sns.barplot(x = list(movie_unique_director.keys())[0:15], y = list(movie_unique_director.values())[0:15], palette = \"Set2\")\n",
    "ax.set(xlabel = 'Movies Directors')\n",
    "ax.set_xticklabels(list(movie_unique_director.keys()))[0:15]\n",
    "ax.set_yticks(np.arange(0, 5))\n",
    "\n",
    "plt.title('Top Movies Directors',size = '30')\n",
    "\n",
    "plt.show()"
   ]
  },
  {
   "cell_type": "markdown",
   "id": "941d8c74",
   "metadata": {},
   "source": [
    "### This shows that almost all the Directors have the same experience ranging from 3-4 Movies for the Top Directors.\n",
    "\n",
    "### So, Netflix can prefer the highly experienced Directors and it is suggested that they should not add content solely on this metric."
   ]
  },
  {
   "cell_type": "markdown",
   "id": "1c73446e",
   "metadata": {},
   "source": [
    "# "
   ]
  },
  {
   "cell_type": "markdown",
   "id": "b4ccf941",
   "metadata": {},
   "source": [
    "## Top TV Shows Actors"
   ]
  },
  {
   "cell_type": "code",
   "execution_count": 50,
   "id": "aafb1e91",
   "metadata": {},
   "outputs": [],
   "source": [
    "tv_show_actor_dic = {}\n",
    "\n",
    "tv_show_actor_li = list(tv_show_df['cast'])\n",
    "\n",
    "for i in tv_show_actor_li:\n",
    "\n",
    "    i = list(i.split(','))\n",
    "    \n",
    "    if (len(i) == 1):\n",
    "        if i in list(tv_show_actor_dic.keys()):\n",
    "            tv_show_actor_dic[i] += 1\n",
    "        else:\n",
    "            tv_show_actor_dic[i[0]] = 1\n",
    "            \n",
    "    else:\n",
    "        for j in i:\n",
    "            if j in list(tv_show_actor_dic.keys()):\n",
    "                tv_show_actor_dic[j] += 1\n",
    "            else:\n",
    "                tv_show_actor_dic[j] = 1"
   ]
  },
  {
   "cell_type": "code",
   "execution_count": 51,
   "id": "31b6371b",
   "metadata": {},
   "outputs": [],
   "source": [
    "tv_show_unique_actor = {}\n",
    "\n",
    "for cast, count in tv_show_actor_dic.items():\n",
    "    cast = cast.replace(' ','')\n",
    "    \n",
    "    if cat in list(tv_show_unique_actor.keys()):\n",
    "        tv_show_unique_actor[cast] += count\n",
    "    else:\n",
    "        tv_show_unique_actor[cast] = count\n",
    "        \n",
    "tv_show_unique_actor = {k: v for k, v in sorted(tv_show_unique_actor.items(), key = lambda item: item[1], reverse = True)}"
   ]
  },
  {
   "cell_type": "code",
   "execution_count": 52,
   "id": "d85592b5",
   "metadata": {},
   "outputs": [
    {
     "data": {
      "image/png": "[encoded data removed]",
      "text/plain": [
       "<Figure size 2160x1728 with 1 Axes>"
      ]
     },
     "metadata": {
      "needs_background": "light"
     },
     "output_type": "display_data"
    }
   ],
   "source": [
    "plt.figure(figsize = (30, 24))\n",
    "ax = sns.barplot(x = list(tv_show_unique_actor.keys())[0:15], y = list(tv_show_unique_actor.values())[0:15], palette = \"Set2\")\n",
    "ax.set(xlabel = 'TV Shows Actors')\n",
    "ax.set_xticklabels(list(tv_show_unique_actor.keys()))[0:15]\n",
    "\n",
    "plt.title('Top TV Shows Actors',size = '30')\n",
    "\n",
    "plt.show()"
   ]
  },
  {
   "cell_type": "markdown",
   "id": "39004288",
   "metadata": {},
   "source": [
    "### This shows that Junichi Suwabe, Yuki Kaji and Ai Kayano have the most TV Shows released on Netflix.\n",
    "\n",
    "### So, Netflix should add more TV Shows of these popular actors on their platform."
   ]
  },
  {
   "cell_type": "markdown",
   "id": "6dd83812",
   "metadata": {},
   "source": [
    "# "
   ]
  },
  {
   "cell_type": "markdown",
   "id": "098fb412",
   "metadata": {},
   "source": [
    "# Top Movies Actors"
   ]
  },
  {
   "cell_type": "code",
   "execution_count": 53,
   "id": "4ca3f40a",
   "metadata": {},
   "outputs": [],
   "source": [
    "movie_actor_dic = {}\n",
    "\n",
    "movie_actor_li = list(movie_df['cast'])\n",
    "\n",
    "for i in movie_actor_li:\n",
    "\n",
    "    i = list(i.split(','))\n",
    "    \n",
    "    if (len(i) == 1):\n",
    "        if i in list(movie_actor_dic.keys()):\n",
    "            movie_actor_dic[i] += 1\n",
    "        else:\n",
    "            movie_actor_dic[i[0]] = 1\n",
    "            \n",
    "    else:\n",
    "        for j in i:\n",
    "            if j in list(movie_actor_dic.keys()):\n",
    "                movie_actor_dic[j] += 1\n",
    "            else:\n",
    "                movie_actor_dic[j] = 1"
   ]
  },
  {
   "cell_type": "code",
   "execution_count": 54,
   "id": "9b5b3428",
   "metadata": {},
   "outputs": [],
   "source": [
    "movie_unique_actor = {}\n",
    "\n",
    "for cast, count in movie_actor_dic.items():\n",
    "    cast = cast.replace(' ','')\n",
    "    \n",
    "    if cat in list(movie_unique_actor.keys()):\n",
    "        movie_unique_actor[cast] += count\n",
    "    else:\n",
    "        movie_unique_actor[cast] = count\n",
    "        \n",
    "movie_unique_actor = {k: v for k, v in sorted(movie_unique_actor.items(), key = lambda item: item[1], reverse = True)}"
   ]
  },
  {
   "cell_type": "code",
   "execution_count": 55,
   "id": "fec21660",
   "metadata": {},
   "outputs": [
    {
     "data": {
      "image/png": "[encoded data removed]",
      "text/plain": [
       "<Figure size 2160x1728 with 1 Axes>"
      ]
     },
     "metadata": {
      "needs_background": "light"
     },
     "output_type": "display_data"
    }
   ],
   "source": [
    "plt.figure(figsize = (30, 24))\n",
    "ax = sns.barplot(x = list(movie_unique_actor.keys())[0:15], y = list(movie_unique_actor.values())[0:15], palette = \"Set2\")\n",
    "ax.set(xlabel = 'Movies Actors')\n",
    "ax.set_xticklabels(list(movie_unique_actor.keys()))[0:15]\n",
    "\n",
    "plt.title('Top Movies Actors',size = '30')\n",
    "\n",
    "plt.show()"
   ]
  },
  {
   "cell_type": "markdown",
   "id": "b73e54a9",
   "metadata": {},
   "source": [
    "### This shows that Rupa Bhimani and Shah Rukh Khan have the most Movies released on Netflix.\n",
    "### So, Netflix should add more Movies of these popular actors on their platform."
   ]
  },
  {
   "cell_type": "markdown",
   "id": "ddcb8d5a",
   "metadata": {},
   "source": [
    "# "
   ]
  },
  {
   "cell_type": "markdown",
   "id": "d7887c7e",
   "metadata": {},
   "source": [
    "## Best Length of TV Shows"
   ]
  },
  {
   "cell_type": "code",
   "execution_count": 56,
   "id": "6f7cfe63",
   "metadata": {},
   "outputs": [
    {
     "data": {
      "text/html": [
       "<div>\n",
       "<style scoped>\n",
       "    .dataframe tbody tr th:only-of-type {\n",
       "        vertical-align: middle;\n",
       "    }\n",
       "\n",
       "    .dataframe tbody tr th {\n",
       "        vertical-align: top;\n",
       "    }\n",
       "\n",
       "    .dataframe thead th {\n",
       "        text-align: right;\n",
       "    }\n",
       "</style>\n",
       "<table border=\"1\" class=\"dataframe\">\n",
       "  <thead>\n",
       "    <tr style=\"text-align: right;\">\n",
       "      <th></th>\n",
       "      <th>season_count</th>\n",
       "      <th>count</th>\n",
       "      <th>%age</th>\n",
       "    </tr>\n",
       "  </thead>\n",
       "  <tbody>\n",
       "    <tr>\n",
       "      <th>0</th>\n",
       "      <td>1</td>\n",
       "      <td>1791</td>\n",
       "      <td>67.229730</td>\n",
       "    </tr>\n",
       "    <tr>\n",
       "      <th>1</th>\n",
       "      <td>2</td>\n",
       "      <td>421</td>\n",
       "      <td>15.803303</td>\n",
       "    </tr>\n",
       "    <tr>\n",
       "      <th>2</th>\n",
       "      <td>3</td>\n",
       "      <td>198</td>\n",
       "      <td>7.432432</td>\n",
       "    </tr>\n",
       "    <tr>\n",
       "      <th>3</th>\n",
       "      <td>4</td>\n",
       "      <td>94</td>\n",
       "      <td>3.528529</td>\n",
       "    </tr>\n",
       "    <tr>\n",
       "      <th>4</th>\n",
       "      <td>5</td>\n",
       "      <td>64</td>\n",
       "      <td>2.402402</td>\n",
       "    </tr>\n",
       "    <tr>\n",
       "      <th>5</th>\n",
       "      <td>6</td>\n",
       "      <td>33</td>\n",
       "      <td>1.238739</td>\n",
       "    </tr>\n",
       "    <tr>\n",
       "      <th>6</th>\n",
       "      <td>7</td>\n",
       "      <td>23</td>\n",
       "      <td>0.863363</td>\n",
       "    </tr>\n",
       "    <tr>\n",
       "      <th>7</th>\n",
       "      <td>8</td>\n",
       "      <td>17</td>\n",
       "      <td>0.638138</td>\n",
       "    </tr>\n",
       "    <tr>\n",
       "      <th>8</th>\n",
       "      <td>9</td>\n",
       "      <td>9</td>\n",
       "      <td>0.337838</td>\n",
       "    </tr>\n",
       "    <tr>\n",
       "      <th>9</th>\n",
       "      <td>10</td>\n",
       "      <td>6</td>\n",
       "      <td>0.225225</td>\n",
       "    </tr>\n",
       "    <tr>\n",
       "      <th>10</th>\n",
       "      <td>13</td>\n",
       "      <td>2</td>\n",
       "      <td>0.075075</td>\n",
       "    </tr>\n",
       "    <tr>\n",
       "      <th>11</th>\n",
       "      <td>15</td>\n",
       "      <td>2</td>\n",
       "      <td>0.075075</td>\n",
       "    </tr>\n",
       "    <tr>\n",
       "      <th>12</th>\n",
       "      <td>12</td>\n",
       "      <td>2</td>\n",
       "      <td>0.075075</td>\n",
       "    </tr>\n",
       "    <tr>\n",
       "      <th>13</th>\n",
       "      <td>17</td>\n",
       "      <td>1</td>\n",
       "      <td>0.037538</td>\n",
       "    </tr>\n",
       "    <tr>\n",
       "      <th>14</th>\n",
       "      <td>11</td>\n",
       "      <td>1</td>\n",
       "      <td>0.037538</td>\n",
       "    </tr>\n",
       "  </tbody>\n",
       "</table>\n",
       "</div>"
      ],
      "text/plain": [
       "   season_count  count       %age\n",
       "0             1   1791  67.229730\n",
       "1             2    421  15.803303\n",
       "2             3    198   7.432432\n",
       "3             4     94   3.528529\n",
       "4             5     64   2.402402\n",
       "5             6     33   1.238739\n",
       "6             7     23   0.863363\n",
       "7             8     17   0.638138\n",
       "8             9      9   0.337838\n",
       "9            10      6   0.225225\n",
       "10           13      2   0.075075\n",
       "11           15      2   0.075075\n",
       "12           12      2   0.075075\n",
       "13           17      1   0.037538\n",
       "14           11      1   0.037538"
      ]
     },
     "execution_count": 56,
     "metadata": {},
     "output_type": "execute_result"
    }
   ],
   "source": [
    "tv_show_seasons = tv_show_df['season_count'].value_counts().reset_index()\n",
    "tv_show_seasons = tv_show_seasons.rename(columns = {'season_count' : \"count\", \"index\" : 'season_count'})\n",
    "tv_show_seasons['%age'] = tv_show_seasons['count'].apply(lambda x : 100 * x / sum(tv_show_seasons['count']))\n",
    "tv_show_seasons = tv_show_seasons.sort_values('count', ascending = False)\n",
    "\n",
    "tv_show_seasons"
   ]
  },
  {
   "cell_type": "code",
   "execution_count": 57,
   "id": "1d102174",
   "metadata": {},
   "outputs": [
    {
     "data": {
      "image/png": "[encoded data removed]",
      "text/plain": [
       "<Figure size 864x720 with 1 Axes>"
      ]
     },
     "metadata": {
      "needs_background": "light"
     },
     "output_type": "display_data"
    }
   ],
   "source": [
    "plt.figure(figsize = (12,10))\n",
    "sns.countplot(x = 'season_count', data = tv_show_df, palette = \"Set2\", order = tv_show_seasons.sort_values('count', ascending = False).season_count)\n",
    "\n",
    "plt.title('Number of Seasons of TV Shows', size = '16')\n",
    "plt.show()"
   ]
  },
  {
   "cell_type": "markdown",
   "id": "1a13f3ea",
   "metadata": {},
   "source": [
    "### This shows that seasons with a single or double Seasons are the most popular.\n",
    "### So, Netflix should avoid TV Shows with too much Seasons but instead add fewer Season TV Shows."
   ]
  },
  {
   "cell_type": "markdown",
   "id": "58a107be",
   "metadata": {},
   "source": [
    "# "
   ]
  },
  {
   "cell_type": "markdown",
   "id": "6b210e97",
   "metadata": {},
   "source": [
    "## Best Duration of Movies"
   ]
  },
  {
   "cell_type": "code",
   "execution_count": 58,
   "id": "af570d79",
   "metadata": {},
   "outputs": [
    {
     "name": "stderr",
     "output_type": "stream",
     "text": [
      "/var/folders/f2/h2z5v1pd3klgdmqks5h6ygh00000gn/T/ipykernel_30314/988277391.py:1: SettingWithCopyWarning: \n",
      "A value is trying to be set on a copy of a slice from a DataFrame.\n",
      "Try using .loc[row_indexer,col_indexer] = value instead\n",
      "\n",
      "See the caveats in the documentation: https://pandas.pydata.org/pandas-docs/stable/user_guide/indexing.html#returning-a-view-versus-a-copy\n",
      "  movie_df['duration'] = movie_df['duration'].str.replace('min','')\n",
      "/var/folders/f2/h2z5v1pd3klgdmqks5h6ygh00000gn/T/ipykernel_30314/988277391.py:2: SettingWithCopyWarning: \n",
      "A value is trying to be set on a copy of a slice from a DataFrame.\n",
      "Try using .loc[row_indexer,col_indexer] = value instead\n",
      "\n",
      "See the caveats in the documentation: https://pandas.pydata.org/pandas-docs/stable/user_guide/indexing.html#returning-a-view-versus-a-copy\n",
      "  movie_df['duration'] = movie_df['duration'].astype(str).astype(int)\n"
     ]
    }
   ],
   "source": [
    "movie_df['duration'] = movie_df['duration'].str.replace('min','')\n",
    "movie_df['duration'] = movie_df['duration'].astype(str).astype(int)"
   ]
  },
  {
   "cell_type": "code",
   "execution_count": 59,
   "id": "b89dadcd",
   "metadata": {},
   "outputs": [
    {
     "data": {
      "image/png": "[encoded data removed]",
      "text/plain": [
       "<Figure size 432x288 with 1 Axes>"
      ]
     },
     "metadata": {},
     "output_type": "display_data"
    }
   ],
   "source": [
    "sns.set(style = \"darkgrid\")\n",
    "sns.kdeplot(data = movie_df['duration'], shade = True)\n",
    "plt.show()"
   ]
  },
  {
   "cell_type": "markdown",
   "id": "0eb3bf17",
   "metadata": {},
   "source": [
    "### This shows that the best duration of a movie is between 80 - 130 mins.\n",
    "\n",
    "### So, instead of adding Movies of long duration of more than 150 mins, Netflix should add more Movies from the above mentioned range."
   ]
  },
  {
   "cell_type": "markdown",
   "id": "e7c03509",
   "metadata": {},
   "source": [
    "# "
   ]
  },
  {
   "cell_type": "code",
   "execution_count": null,
   "id": "6aaf3931",
   "metadata": {},
   "outputs": [],
   "source": []
  }
 ],
 "metadata": {
  "kernelspec": {
   "display_name": "Python 3 (ipykernel)",
   "language": "python",
   "name": "python3"
  },
  "language_info": {
   "codemirror_mode": {
    "name": "ipython",
    "version": 3
   },
   "file_extension": ".py",
   "mimetype": "text/x-python",
   "name": "python",
   "nbconvert_exporter": "python",
   "pygments_lexer": "ipython3",
   "version": "3.9.1"
  }
 },
 "nbformat": 4,
 "nbformat_minor": 5
}
